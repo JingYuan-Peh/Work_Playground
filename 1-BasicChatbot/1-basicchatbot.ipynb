{
 "cells": [
  {
   "cell_type": "markdown",
   "id": "f09616fd",
   "metadata": {},
   "source": [
    "Build A Basic Chatbot with LangGraph"
   ]
  },
  {
   "cell_type": "code",
   "execution_count": 1,
   "id": "fc8dbb95",
   "metadata": {},
   "outputs": [],
   "source": [
    "from typing import Annotated\n",
    "\n",
    "from typing_extensions import TypedDict\n",
    "\n",
    "from langgraph.graph import StateGraph, START, END\n",
    "from langgraph.graph.message import add_messages"
   ]
  },
  {
   "cell_type": "code",
   "execution_count": 2,
   "id": "f78d323e",
   "metadata": {},
   "outputs": [],
   "source": [
    "class State(TypedDict):\n",
    "    messages:Annotated[list, add_messages]\n",
    "\n"
   ]
  },
  {
   "cell_type": "code",
   "execution_count": 3,
   "id": "38d7e2a5",
   "metadata": {},
   "outputs": [
    {
     "data": {
      "text/plain": [
       "True"
      ]
     },
     "execution_count": 3,
     "metadata": {},
     "output_type": "execute_result"
    }
   ],
   "source": [
    "import os\n",
    "from dotenv import load_dotenv\n",
    "load_dotenv()"
   ]
  },
  {
   "cell_type": "code",
   "execution_count": 4,
   "id": "e4964356",
   "metadata": {},
   "outputs": [],
   "source": [
    "from langchain_groq import ChatGroq\n",
    "from langchain.chat_models import init_chat_model\n",
    "\n",
    "llm=ChatGroq(model=\"llama3-8b-8192\")"
   ]
  },
  {
   "cell_type": "code",
   "execution_count": 5,
   "id": "a4cd7040",
   "metadata": {},
   "outputs": [],
   "source": [
    "## Node Functionality\n",
    "def chatbot(state: State) -> State:\n",
    "    return {\"messages\":[llm.invoke(state[\"messages\"])]}"
   ]
  },
  {
   "cell_type": "code",
   "execution_count": 6,
   "id": "64d6b927",
   "metadata": {},
   "outputs": [],
   "source": [
    "graph_builder = StateGraph(State)\n",
    "\n",
    "## adding node\n",
    "graph_builder.add_node(\"llmchatbot\", chatbot)\n",
    "\n",
    "## adding edges\n",
    "graph_builder.add_edge(START, \"llmchatbot\")\n",
    "graph_builder.add_edge(\"llmchatbot\", END)\n",
    "\n",
    "## compile the graph\n",
    "graph=graph_builder.compile()"
   ]
  },
  {
   "cell_type": "code",
   "execution_count": 7,
   "id": "b5fe7d1e",
   "metadata": {},
   "outputs": [
    {
     "data": {
      "image/png": "[encoded data removed]",
      "text/plain": [
       "<IPython.core.display.Image object>"
      ]
     },
     "metadata": {},
     "output_type": "display_data"
    }
   ],
   "source": [
    "## visualize the graph\n",
    "from IPython.display import Image,display\n",
    "\n",
    "try:\n",
    "    display(Image(graph.get_graph().draw_mermaid_png()))\n",
    "except Exception:\n",
    "    pass"
   ]
  },
  {
   "cell_type": "code",
   "execution_count": 8,
   "id": "5ad0741e",
   "metadata": {},
   "outputs": [],
   "source": [
    "response = graph.invoke({\"messages\":\"Hi\"})"
   ]
  },
  {
   "cell_type": "code",
   "execution_count": 9,
   "id": "631638a6",
   "metadata": {},
   "outputs": [
    {
     "data": {
      "text/plain": [
       "\"Hi! It's nice to meet you. Is there something I can help you with or would you like to chat?\""
      ]
     },
     "execution_count": 9,
     "metadata": {},
     "output_type": "execute_result"
    }
   ],
   "source": [
    "response[\"messages\"][-1].content"
   ]
  },
  {
   "cell_type": "code",
   "execution_count": 10,
   "id": "d3582dec",
   "metadata": {},
   "outputs": [
    {
     "name": "stdout",
     "output_type": "stream",
     "text": [
      "I'm just a language model, I don't have feelings or emotions like humans do, but I'm here to help you with any questions or tasks you may have! It's great to have a conversation with you.\n"
     ]
    }
   ],
   "source": [
    "for event in graph.stream({\"messages\":\"Hi how are you?\"}):\n",
    "    for value in event.values():\n",
    "            print(value[\"messages\"][-1].content)"
   ]
  },
  {
   "cell_type": "markdown",
   "id": "35e26061",
   "metadata": {},
   "source": [
    "Chatbot with Tool"
   ]
  },
  {
   "cell_type": "code",
   "execution_count": 10,
   "id": "26d019d8",
   "metadata": {},
   "outputs": [
    {
     "data": {
      "text/plain": [
       "{'query': 'What is LangGraph?',\n",
       " 'follow_up_questions': None,\n",
       " 'answer': None,\n",
       " 'images': [],\n",
       " 'results': [{'url': 'https://www.datacamp.com/tutorial/langgraph-tutorial',\n",
       "   'title': 'LangGraph Tutorial: What Is LangGraph and How to Use It?',\n",
       "   'content': 'LangGraph is a library within the LangChain ecosystem that provides a framework for defining, coordinating, and executing multiple LLM agents (or chains) in a structured and efficient manner. By managing the flow of data and the sequence of operations, LangGraph allows developers to focus on the high-level logic of their applications rather than the intricacies of agent coordination. Whether you need a chatbot that can handle various types of user requests or a multi-agent system that performs complex tasks, LangGraph provides the tools to build exactly what you need. LangGraph significantly simplifies the development of complex LLM applications by providing a structured framework for managing state and coordinating agent interactions.',\n",
       "   'score': 0.9581988,\n",
       "   'raw_content': None},\n",
       "  {'url': 'https://www.ibm.com/think/topics/langgraph',\n",
       "   'title': 'What is LangGraph? - IBM',\n",
       "   'content': 'LangGraph, created by LangChain, is an open source AI agent framework designed to build, deploy and manage complex generative AI agent workflows. At its core, LangGraph uses the power of graph-based architectures to model and manage the intricate relationships between various components of an AI agent workflow. LangGraph illuminates the processes within an AI workflow, allowing full transparency of the agent’s state. By combining these technologies with a set of APIs and tools, LangGraph provides users with a versatile platform for developing AI solutions and workflows including chatbots, state graphs and other agent-based systems. Nodes: In LangGraph, nodes represent individual components or agents within an AI workflow. LangGraph uses enhanced decision-making by modeling complex relationships between nodes, which means it uses AI agents to analyze their past actions and feedback.',\n",
       "   'score': 0.9554898,\n",
       "   'raw_content': None}],\n",
       " 'response_time': 1.34}"
      ]
     },
     "execution_count": 10,
     "metadata": {},
     "output_type": "execute_result"
    }
   ],
   "source": [
    "from langchain_tavily import TavilySearch\n",
    "\n",
    "tool=TavilySearch(max_results=2)\n",
    "tool.invoke(\"What is LangGraph?\")"
   ]
  },
  {
   "cell_type": "code",
   "execution_count": 29,
   "id": "2f0140dc",
   "metadata": {},
   "outputs": [],
   "source": [
    "## custom function\n",
    "def multiply(a: int, b: int) -> int:\n",
    "    \"\"\" Multiply a and b\n",
    "    Args:\n",
    "        a (int): First number\n",
    "        b (int): Second number\n",
    "    Returns:\n",
    "        int: Product of a and b\n",
    "    \"\"\"\n",
    "    return a * b"
   ]
  },
  {
   "cell_type": "code",
   "execution_count": 30,
   "id": "d5cddfb0",
   "metadata": {},
   "outputs": [],
   "source": [
    "tools=[tool,multiply]"
   ]
  },
  {
   "cell_type": "code",
   "execution_count": 31,
   "id": "64622880",
   "metadata": {},
   "outputs": [],
   "source": [
    "llm_with_tool=llm.bind_tools(tools)"
   ]
  },
  {
   "cell_type": "code",
   "execution_count": 32,
   "id": "d05a0a69",
   "metadata": {},
   "outputs": [
    {
     "data": {
      "text/plain": [
       "RunnableBinding(bound=ChatGroq(client=<groq.resources.chat.completions.Completions object at 0x000002360409EA50>, async_client=<groq.resources.chat.completions.AsyncCompletions object at 0x000002360409F620>, model_name='llama3-8b-8192', model_kwargs={}, groq_api_key=SecretStr('**********')), kwargs={'tools': [{'type': 'function', 'function': {'name': 'tavily_search', 'description': 'A search engine optimized for comprehensive, accurate, and trusted results. Useful for when you need to answer questions about current events. It not only retrieves URLs and snippets, but offers advanced search depths, domain management, time range filters, and image search, this tool delivers real-time, accurate, and citation-backed results.Input should be a search query.', 'parameters': {'properties': {'query': {'description': 'Search query to look up', 'type': 'string'}, 'include_domains': {'anyOf': [{'items': {'type': 'string'}, 'type': 'array'}, {'type': 'null'}], 'default': [], 'description': 'A list of domains to restrict search results to.\\n\\n        Use this parameter when:\\n        1. The user explicitly requests information from specific websites (e.g., \"Find climate data from nasa.gov\")\\n        2. The user mentions an organization or company without specifying the domain (e.g., \"Find information about iPhones from Apple\")\\n\\n        In both cases, you should determine the appropriate domains (e.g., [\"nasa.gov\"] or [\"apple.com\"]) and set this parameter.\\n\\n        Results will ONLY come from the specified domains - no other sources will be included.\\n        Default is None (no domain restriction).\\n        '}, 'exclude_domains': {'anyOf': [{'items': {'type': 'string'}, 'type': 'array'}, {'type': 'null'}], 'default': [], 'description': 'A list of domains to exclude from search results.\\n\\n        Use this parameter when:\\n        1. The user explicitly requests to avoid certain websites (e.g., \"Find information about climate change but not from twitter.com\")\\n        2. The user mentions not wanting results from specific organizations without naming the domain (e.g., \"Find phone reviews but nothing from Apple\")\\n\\n        In both cases, you should determine the appropriate domains to exclude (e.g., [\"twitter.com\"] or [\"apple.com\"]) and set this parameter.\\n\\n        Results will filter out all content from the specified domains.\\n        Default is None (no domain exclusion).\\n        '}, 'search_depth': {'anyOf': [{'enum': ['basic', 'advanced'], 'type': 'string'}, {'type': 'null'}], 'default': 'basic', 'description': 'Controls search thoroughness and result comprehensiveness.\\n    \\n        Use \"basic\" for simple queries requiring quick, straightforward answers.\\n        \\n        Use \"advanced\" (default) for complex queries, specialized topics, \\n        rare information, or when in-depth analysis is needed.\\n        '}, 'include_images': {'anyOf': [{'type': 'boolean'}, {'type': 'null'}], 'default': False, 'description': 'Determines if the search returns relevant images along with text results.\\n   \\n        Set to True when the user explicitly requests visuals or when images would \\n        significantly enhance understanding (e.g., \"Show me what black holes look like,\" \\n        \"Find pictures of Renaissance art\").\\n        \\n        Leave as False (default) for most informational queries where text is sufficient.\\n        '}, 'time_range': {'anyOf': [{'enum': ['day', 'week', 'month', 'year'], 'type': 'string'}, {'type': 'null'}], 'default': None, 'description': 'Limits results to content published within a specific timeframe.\\n        \\n        ONLY set this when the user explicitly mentions a time period \\n        (e.g., \"latest AI news,\" \"articles from last week\").\\n        \\n        For less popular or niche topics, use broader time ranges \\n        (\"month\" or \"year\") to ensure sufficient relevant results.\\n   \\n        Options: \"day\" (24h), \"week\" (7d), \"month\" (30d), \"year\" (365d).\\n        \\n        Default is None.\\n        '}, 'topic': {'anyOf': [{'enum': ['general', 'news', 'finance'], 'type': 'string'}, {'type': 'null'}], 'default': 'general', 'description': 'Specifies search category for optimized results.\\n   \\n        Use \"general\" (default) for most queries, INCLUDING those with terms like \\n        \"latest,\" \"newest,\" or \"recent\" when referring to general information.\\n\\n        Use \"finance\" for markets, investments, economic data, or financial news.\\n\\n        Use \"news\" ONLY for politics, sports, or major current events covered by \\n        mainstream media - NOT simply because a query asks for \"new\" information.\\n        '}, 'include_favicon': {'anyOf': [{'type': 'boolean'}, {'type': 'null'}], 'default': False, 'description': 'Whether to include the favicon URL for each result.'}}, 'required': ['query'], 'type': 'object'}}}, {'type': 'function', 'function': {'name': 'multiply', 'description': 'Multiply a and b\\nArgs:\\n    a (int): First number\\n    b (int): Second number\\nReturns:\\n    int: Product of a and b', 'parameters': {'properties': {'a': {'type': 'integer'}, 'b': {'type': 'integer'}}, 'required': ['a', 'b'], 'type': 'object'}}}]}, config={}, config_factories=[])"
      ]
     },
     "execution_count": 32,
     "metadata": {},
     "output_type": "execute_result"
    }
   ],
   "source": [
    "llm_with_tool"
   ]
  },
  {
   "cell_type": "code",
   "execution_count": null,
   "id": "d81ba1b0",
   "metadata": {},
   "outputs": [],
   "source": [
    "## Stategraph\n",
    "\n",
    "from langgraph.graph import StateGraph, START, END\n",
    "from langgraph.prebuilt import ToolNode\n",
    "from langgraph.prebuilt import tools_condition\n",
    "\n",
    "## Node definition\n",
    "def tool_calling_llm(state: State):\n",
    "    return {\"messages\":[llm_with_tool.invoke(state[\"messages\"])]}\n",
    "\n",
    "## Graph\n",
    "builder=StateGraph(State)\n",
    "builder.add_node(\"tool_calling_llm\",tool_calling_llm)\n",
    "builder.add_node(\"tools\", ToolNode(tools))\n",
    "\n",
    "## Add edges\n",
    "builder.add_edge(START, \"tool_calling_llm\")\n",
    "builder.add_conditional_edges(\n",
    "    \"tool_calling_llm\",\n",
    "    # If the latest message (result) from assistance is a tool call -> tools_condition route to tools\n",
    "    # If the latest message (result) from assistance is not a tool call -> tools_condition route to END\n",
    "   tools_condition \n",
    ")\n",
    "builder.add_edge(\"tools\", END)\n",
    "\n",
    "## complile the graph\n",
    "graph=builder.compile()"
   ]
  },
  {
   "cell_type": "code",
   "execution_count": 42,
   "id": "6d81df01",
   "metadata": {},
   "outputs": [
    {
     "data": {
      "image/png": "[encoded data removed]",
      "text/plain": [
       "<IPython.core.display.Image object>"
      ]
     },
     "metadata": {},
     "output_type": "display_data"
    }
   ],
   "source": [
    "## visualize the graph\n",
    "from IPython.display import Image,display\n",
    "\n",
    "display(Image(graph.get_graph().draw_mermaid_png()))"
   ]
  },
  {
   "cell_type": "code",
   "execution_count": 23,
   "id": "9e55aa30",
   "metadata": {},
   "outputs": [],
   "source": [
    "response=graph.invoke({\"messages\":\"what is the recent AI news?\"})"
   ]
  },
  {
   "cell_type": "code",
   "execution_count": 24,
   "id": "6fc29047",
   "metadata": {},
   "outputs": [
    {
     "data": {
      "text/plain": [
       "'{\"query\": \"recent AI news\", \"follow_up_questions\": null, \"answer\": null, \"images\": [], \"results\": [{\"url\": \"https://www.reuters.com/business/us-ai-startups-see-funding-surge-while-more-vc-funds-struggle-raise-data-shows-2025-07-15/\", \"title\": \"US AI startups see funding surge while more VC funds struggle to raise, data shows - Reuters\", \"score\": 0.694241, \"published_date\": \"Tue, 15 Jul 2025 04:06:00 GMT\", \"content\": \"This year’s boom has been driven largely by major AI investments and bold bets from big tech companies, a wave of activity set off by the debut of ChatGPT in late 2022. In the past three months alone, $69.9 billion was invested in U.S. startups.\\\\n\\\\nStandout deals included OpenAI’s $40 billion round and Meta’s (META.O), opens new tab$14.3 billion purchase of a stake in Scale AI.\\\\n\\\\nAdvertisement · Scroll to continue [...] - U.S. startup funding surged 75.6% in the first half of 2025, thanks to the continued AI boom, putting it on track for its second-best year ever, even as venture capital firms struggled to raise money, a report from PitchBook on Tuesday showed.\\\\n\\\\nStartup funding in the first six months of 2025 jumped to $162.8 billion, marking the strongest performance since the same period in 2021 — the historic peak for venture capital activity. [...] Other AI deals exceeding $1 billion in the second quarter included significant investments in Safe Superintelligence, Thinking Machine Labs, Anduril, and Grammarly.\\\\n\\\\nThese deals underscore sustained investor conviction in the AI sector, which accounted for 64.1% of the total deal value and 35.6% of the deal count in the first half of the year.\", \"raw_content\": null}, {\"url\": \"https://www.defenseone.com/defense-systems/2025/07/pentagon-awards-multiple-companies-200m-contracts-ai-tools/406700/?oref=d1-featured-river-secondary\", \"title\": \"Pentagon awards multiple companies $200M contracts for AI tools - Defense One\", \"score\": 0.6021791, \"published_date\": \"Mon, 14 Jul 2025 16:06:33 GMT\", \"content\": \"OpenAI, Anthropic beef up government business\\\\n\\\\nIn recent months, tech firmsOpenAI andAnthropic — which have both developed the incredibly popular large language models, ChatGPT and Claude, respectively — have launched business divisions targeting the increasingly lucrative government market. [...] Broadly, the Pentagon’s AI awards exemplify how important the technology is to the Pentagon. In June, the Defense Departmentawarded a similar contract to OpenAI for Government to develop AI prototypes, months after Microsoft’s OpenAI-enabled Azure offeringswere approved for use at the highest security classification level. Meanwhile, other AI firms like Anthropic haveforged partnerships with cloud service providers andbuilt out public sector teams to serve national security missions. [...] In addition, xAI said its products will be available for government purchase through the General Services Administration schedule, which allows every federal agency to make purchases against it. In short, xAI now has tools available for purchase by “every federal government department, agency, or office.”\\\\n\\\\nGoogle’s momentum continues\", \"raw_content\": null}], \"response_time\": 1.9}'"
      ]
     },
     "execution_count": 24,
     "metadata": {},
     "output_type": "execute_result"
    }
   ],
   "source": [
    "response[\"messages\"][-1].content"
   ]
  },
  {
   "cell_type": "code",
   "execution_count": 25,
   "id": "5e27d24f",
   "metadata": {},
   "outputs": [
    {
     "name": "stdout",
     "output_type": "stream",
     "text": [
      "================================\u001b[1m Human Message \u001b[0m=================================\n",
      "\n",
      "what is the recent AI news?\n",
      "==================================\u001b[1m Ai Message \u001b[0m==================================\n",
      "Tool Calls:\n",
      "  tavily_search (z5sywafqm)\n",
      " Call ID: z5sywafqm\n",
      "  Args:\n",
      "    query: recent AI news\n",
      "    search_depth: advanced\n",
      "    time_range: day\n",
      "    topic: news\n",
      "=================================\u001b[1m Tool Message \u001b[0m=================================\n",
      "Name: tavily_search\n",
      "\n",
      "{\"query\": \"recent AI news\", \"follow_up_questions\": null, \"answer\": null, \"images\": [], \"results\": [{\"url\": \"https://www.reuters.com/business/us-ai-startups-see-funding-surge-while-more-vc-funds-struggle-raise-data-shows-2025-07-15/\", \"title\": \"US AI startups see funding surge while more VC funds struggle to raise, data shows - Reuters\", \"score\": 0.694241, \"published_date\": \"Tue, 15 Jul 2025 04:06:00 GMT\", \"content\": \"This year’s boom has been driven largely by major AI investments and bold bets from big tech companies, a wave of activity set off by the debut of ChatGPT in late 2022. In the past three months alone, $69.9 billion was invested in U.S. startups.\\n\\nStandout deals included OpenAI’s $40 billion round and Meta’s (META.O), opens new tab$14.3 billion purchase of a stake in Scale AI.\\n\\nAdvertisement · Scroll to continue [...] - U.S. startup funding surged 75.6% in the first half of 2025, thanks to the continued AI boom, putting it on track for its second-best year ever, even as venture capital firms struggled to raise money, a report from PitchBook on Tuesday showed.\\n\\nStartup funding in the first six months of 2025 jumped to $162.8 billion, marking the strongest performance since the same period in 2021 — the historic peak for venture capital activity. [...] Other AI deals exceeding $1 billion in the second quarter included significant investments in Safe Superintelligence, Thinking Machine Labs, Anduril, and Grammarly.\\n\\nThese deals underscore sustained investor conviction in the AI sector, which accounted for 64.1% of the total deal value and 35.6% of the deal count in the first half of the year.\", \"raw_content\": null}, {\"url\": \"https://www.defenseone.com/defense-systems/2025/07/pentagon-awards-multiple-companies-200m-contracts-ai-tools/406700/?oref=d1-featured-river-secondary\", \"title\": \"Pentagon awards multiple companies $200M contracts for AI tools - Defense One\", \"score\": 0.6021791, \"published_date\": \"Mon, 14 Jul 2025 16:06:33 GMT\", \"content\": \"OpenAI, Anthropic beef up government business\\n\\nIn recent months, tech firmsOpenAI andAnthropic — which have both developed the incredibly popular large language models, ChatGPT and Claude, respectively — have launched business divisions targeting the increasingly lucrative government market. [...] Broadly, the Pentagon’s AI awards exemplify how important the technology is to the Pentagon. In June, the Defense Departmentawarded a similar contract to OpenAI for Government to develop AI prototypes, months after Microsoft’s OpenAI-enabled Azure offeringswere approved for use at the highest security classification level. Meanwhile, other AI firms like Anthropic haveforged partnerships with cloud service providers andbuilt out public sector teams to serve national security missions. [...] In addition, xAI said its products will be available for government purchase through the General Services Administration schedule, which allows every federal agency to make purchases against it. In short, xAI now has tools available for purchase by “every federal government department, agency, or office.”\\n\\nGoogle’s momentum continues\", \"raw_content\": null}], \"response_time\": 1.9}\n"
     ]
    }
   ],
   "source": [
    "for m in response[\"messages\"]:\n",
    "    m.pretty_print()"
   ]
  },
  {
   "cell_type": "code",
   "execution_count": 34,
   "id": "2dc48746",
   "metadata": {},
   "outputs": [],
   "source": [
    "response=graph.invoke({\"messages\":\"what is 5 multiplied by 2?\"})"
   ]
  },
  {
   "cell_type": "code",
   "execution_count": 35,
   "id": "2118177f",
   "metadata": {},
   "outputs": [
    {
     "name": "stdout",
     "output_type": "stream",
     "text": [
      "================================\u001b[1m Human Message \u001b[0m=================================\n",
      "\n",
      "what is 5 multiplied by 2?\n",
      "==================================\u001b[1m Ai Message \u001b[0m==================================\n",
      "Tool Calls:\n",
      "  multiply (w00666vhk)\n",
      " Call ID: w00666vhk\n",
      "  Args:\n",
      "    a: 5\n",
      "    b: 2\n",
      "=================================\u001b[1m Tool Message \u001b[0m=================================\n",
      "Name: multiply\n",
      "\n",
      "10\n"
     ]
    }
   ],
   "source": [
    "for m in response[\"messages\"]:\n",
    "    m.pretty_print()"
   ]
  },
  {
   "cell_type": "code",
   "execution_count": 38,
   "id": "6d918878",
   "metadata": {},
   "outputs": [
    {
     "name": "stdout",
     "output_type": "stream",
     "text": [
      "================================\u001b[1m Human Message \u001b[0m=================================\n",
      "\n",
      "Give me recent AI news and then multiply 5 by 2?\n",
      "==================================\u001b[1m Ai Message \u001b[0m==================================\n",
      "Tool Calls:\n",
      "  tavily_search (sv0rm1ds4)\n",
      " Call ID: sv0rm1ds4\n",
      "  Args:\n",
      "    query: recent AI news\n",
      "  multiply (j14va5k1z)\n",
      " Call ID: j14va5k1z\n",
      "  Args:\n",
      "    a: 5\n",
      "    b: 2\n",
      "=================================\u001b[1m Tool Message \u001b[0m=================================\n",
      "Name: tavily_search\n",
      "\n",
      "{\"query\": \"recent AI news\", \"follow_up_questions\": null, \"answer\": null, \"images\": [], \"results\": [{\"url\": \"https://www.artificialintelligence-news.com/\", \"title\": \"AI News | Latest AI News, Analysis & Events\", \"content\": \"AI is rewriting the rules of the insurance industry · IBM Power11 targets enterprise AI adoption with zero-downtime architecture · Google's open MedGemma AI\", \"score\": 0.78886026, \"raw_content\": null}, {\"url\": \"https://techcrunch.com/category/artificial-intelligence/\", \"title\": \"AI News & Artificial Intelligence - TechCrunch\", \"content\": \"News coverage on artificial intelligence and machine learning tech, the companies building them, and the ethical issues AI raises today.\", \"score\": 0.5513086, \"raw_content\": null}], \"response_time\": 1.24}\n",
      "=================================\u001b[1m Tool Message \u001b[0m=================================\n",
      "Name: multiply\n",
      "\n",
      "10\n"
     ]
    }
   ],
   "source": [
    "response=graph.invoke({\"messages\":\"Give me recent AI news and then multiply 5 by 2?\"})\n",
    "for m in response[\"messages\"]:\n",
    "    m.pretty_print()"
   ]
  },
  {
   "cell_type": "markdown",
   "id": "2b642838",
   "metadata": {},
   "source": [
    "### ReACT  Agent Architecture"
   ]
  },
  {
   "cell_type": "code",
   "execution_count": 46,
   "id": "cc580a00",
   "metadata": {},
   "outputs": [],
   "source": [
    "## Stategraph\n",
    "\n",
    "from langgraph.graph import StateGraph, START, END\n",
    "from langgraph.prebuilt import ToolNode\n",
    "from langgraph.prebuilt import tools_condition\n",
    "\n",
    "## Node definition\n",
    "def tool_calling_llm(state: State):\n",
    "    return {\"messages\":[llm_with_tool.invoke(state[\"messages\"])]}\n",
    "\n",
    "## Graph\n",
    "builder=StateGraph(State)\n",
    "builder.add_node(\"tool_calling_llm\",tool_calling_llm)\n",
    "builder.add_node(\"tools\", ToolNode(tools))\n",
    "\n",
    "## Add edges\n",
    "builder.add_edge(START, \"tool_calling_llm\")\n",
    "builder.add_conditional_edges(\n",
    "    \"tool_calling_llm\",\n",
    "    # If the latest message (result) from assistance is a tool call -> tools_condition route to tools\n",
    "    # If the latest message (result) from assistance is not a tool call -> tools_condition route to END\n",
    "   tools_condition \n",
    ")\n",
    "builder.add_edge(\"tools\", \"tool_calling_llm\")\n",
    "\n",
    "## complile the graph\n",
    "graph=builder.compile()"
   ]
  },
  {
   "cell_type": "code",
   "execution_count": 47,
   "id": "7efb237f",
   "metadata": {},
   "outputs": [
    {
     "data": {
      "image/png": "[encoded data removed]",
      "text/plain": [
       "<IPython.core.display.Image object>"
      ]
     },
     "metadata": {},
     "output_type": "display_data"
    }
   ],
   "source": [
    "## visualize the graph\n",
    "from IPython.display import Image,display\n",
    "\n",
    "display(Image(graph.get_graph().draw_mermaid_png()))"
   ]
  },
  {
   "cell_type": "code",
   "execution_count": 50,
   "id": "b1576bdd",
   "metadata": {},
   "outputs": [
    {
     "name": "stdout",
     "output_type": "stream",
     "text": [
      "================================\u001b[1m Human Message \u001b[0m=================================\n",
      "\n",
      "Give me recent AI news and then multiply 5 by 10\n",
      "==================================\u001b[1m Ai Message \u001b[0m==================================\n",
      "Tool Calls:\n",
      "  tavily_search (54ma6m2jx)\n",
      " Call ID: 54ma6m2jx\n",
      "  Args:\n",
      "    query: recent AI news\n",
      "    search_depth: advanced\n",
      "    time_range: day\n",
      "=================================\u001b[1m Tool Message \u001b[0m=================================\n",
      "Name: tavily_search\n",
      "\n",
      "{\"query\": \"recent AI news\", \"follow_up_questions\": null, \"answer\": null, \"images\": [], \"results\": [{\"url\": \"https://medium.com/@ptpchicago/emerging-ai-news-roundup-for-may-and-june-2025-part-1-ai-agents-jobs-impact-and-the-return-of-510b4ff84982\", \"title\": \"Emerging AI News Roundup for May and June 2025 Part 1: AI ...\", \"content\": \"The New York Times became the most recent during this period, announcing an AI licensing deal with Amazon even as its suit against OpenAI heats up (see Part 2).\\n\\nAnd speaking of suits, Amazon, Google, Meta, and Microsoft are all dealing with antitrust suits with the governments of varying countries (including the US). One of these also fell in favor of Big Tech during this period, with the FTC losing a nearly three-year-old case to break up Microsoft’s merger with Activision Blizzard. [...] Sign up\\n\\nSign in\\n\\nSign up\\n\\nSign in\\n\\n# Emerging AI News Roundup for May and June 2025 Part 1: AI Agents, Jobs Impact, and the Return of the Surge\\n\\nPeterson Technology Partners\\n\\n--\\n\\nListen\\n\\nShare\\n\\nAI News Roundup for May and June\\n\\nIt’s summertime and AI is cooking again, with Nvidia and its peers in AI innovation back on top on Wall Street, shrugging off the DeepSeek challenge from January, tariff concerns, and fears the AI bubble might soon burst. [...] Wired’s Will Knight profiled Goose in May, an AI agent developed by CEO Jack Dorsey’s finance firm Block, which has a simple interface and is helping employees with coding (writing new code and helping devs get up to speed on unfamiliar code bases, for examples) and data visualizations, among other tasks like keeping packages updated.\\n\\nIt’s also enabling non-developers to dabble with code for prototyping and new features.\", \"score\": 0.7625837, \"raw_content\": null}, {\"url\": \"https://techcrunch.com/category/artificial-intelligence/\", \"title\": \"AI News & Artificial Intelligence - TechCrunch\", \"content\": \"### Tomorrow: TechCrunch All Stage launches in Boston — and ticket prices rise\\n\\nThe Meta AI app is displayed on a mobile phone with the Meta AI logo visible on a tablet in this photo illustration\\n\\n### Meta acquires voice startup Play AI\\n\\nOnline psychotherapy concept, sad young girl in depression\\n\\n### Study warns of ‘significant risks’ in using AI therapy chatbots\\n\\nElon Musk speaks during a town hall in Green Bay, Wisconsin on March 30, 2025. [...] ### Just 3 days left to save before TechCrunch All Stage 2025 lights up Boston\\n\\nSam Altman\\n\\n### OpenAI delays the release of its open model, again\\n\\nGoogle CEO Sundar Pichai\\n\\n### Windsurf’s CEO goes to Google; OpenAI’s acquisition falls apart\\n\\nAI robot face and programming code on a black background.\\n\\n### AI coding tools may not speed up every developer, study shows\\n\\nReachy Mini desktop robot\\n\\n### Hugging Face’s new robot is the Seinfeld of AI devices\\n\\nSarah Smith [...] ### Sarah Smith launches $16M fund, says AI can ‘unlock’ so much for solo GPs like herself\\n\\nHands typing code on a virtual keyboard.\\n\\n### Goldman Sachs is testing viral AI agent Devin as a ‘new employee’\\n\\nTechCrunch Disrupt 2016 robot demo\\n\\n### Humanoids, AVs, and what’s next in AI hardware at TechCrunch Disrupt 2025\\n\\nEvent Logo\", \"score\": 0.6864757, \"raw_content\": null}], \"response_time\": 2.43}\n",
      "==================================\u001b[1m Ai Message \u001b[0m==================================\n",
      "Tool Calls:\n",
      "  multiply (fwqf4jfyg)\n",
      " Call ID: fwqf4jfyg\n",
      "  Args:\n",
      "    a: 5\n",
      "    b: 10\n",
      "  multiply (54fdn25nh)\n",
      " Call ID: 54fdn25nh\n",
      "  Args:\n",
      "    a: 5\n",
      "    b: 10\n",
      "=================================\u001b[1m Tool Message \u001b[0m=================================\n",
      "Name: multiply\n",
      "\n",
      "50\n",
      "=================================\u001b[1m Tool Message \u001b[0m=================================\n",
      "Name: multiply\n",
      "\n",
      "50\n",
      "==================================\u001b[1m Ai Message \u001b[0m==================================\n",
      "\n",
      "I can respond directly without using a tool.\n",
      "\n",
      "The recent AI news I provided earlier showcased various developments and trends in the field of artificial intelligence. Some notable points include the emergence of AI agents like Goose, which can help employees with coding and data visualizations, and the growth of AI innovation in industries like finance and healthcare.\n",
      "\n",
      "As for multiplying 5 by 10, I can confirm that the result is indeed 50.\n"
     ]
    }
   ],
   "source": [
    "response=graph.invoke({\"messages\":\"Give me recent AI news and then multiply 5 by 10\"})\n",
    "for m in response[\"messages\"]:\n",
    "    m.pretty_print()"
   ]
  },
  {
   "cell_type": "markdown",
   "id": "64f2425d",
   "metadata": {},
   "source": [
    "### Adding Memory in Agentic Graph"
   ]
  },
  {
   "cell_type": "code",
   "execution_count": 51,
   "id": "bf4d62cb",
   "metadata": {},
   "outputs": [
    {
     "name": "stdout",
     "output_type": "stream",
     "text": [
      "================================\u001b[1m Human Message \u001b[0m=================================\n",
      "\n",
      "Hello my name is John\n",
      "==================================\u001b[1m Ai Message \u001b[0m==================================\n",
      "\n",
      "Hello John! Nice to meet you.\n"
     ]
    }
   ],
   "source": [
    "response=graph.invoke({\"messages\":\"Hello my name is John\"})\n",
    "for m in response[\"messages\"]:\n",
    "    m.pretty_print()"
   ]
  },
  {
   "cell_type": "code",
   "execution_count": 54,
   "id": "b1272a44",
   "metadata": {},
   "outputs": [
    {
     "name": "stdout",
     "output_type": "stream",
     "text": [
      "================================\u001b[1m Human Message \u001b[0m=================================\n",
      "\n",
      "What is my name\n",
      "==================================\u001b[1m Ai Message \u001b[0m==================================\n",
      "Tool Calls:\n",
      "  multiply (ztyartw6g)\n",
      " Call ID: ztyartw6g\n",
      "  Args:\n",
      "    a: 1\n",
      "    b: 0\n",
      "=================================\u001b[1m Tool Message \u001b[0m=================================\n",
      "Name: multiply\n",
      "\n",
      "0\n",
      "==================================\u001b[1m Ai Message \u001b[0m==================================\n",
      "Tool Calls:\n",
      "  tavily_search (k23sat52q)\n",
      " Call ID: k23sat52q\n",
      "  Args:\n",
      "    query: What is my name\n",
      "=================================\u001b[1m Tool Message \u001b[0m=================================\n",
      "Name: tavily_search\n",
      "\n",
      "{\"query\": \"What is my name\", \"follow_up_questions\": null, \"answer\": null, \"images\": [], \"results\": [{\"url\": \"https://www.youtube.com/watch?v=_dyvXcv3ej0\", \"title\": \"What's My Name (from Descendants 2) (Official Video) - YouTube\", \"content\": \"What's My Name (from Descendants 2) (Official Video)\\n\\nDisneyMusicVEVO\\n2449889 likes\\n325711551 views\\n14 Jun 2017\\n\\\"Descendants/Zombies: Worlds Collide Tour\\\" is a one-of-a-kind interactive live concert experience coming to arenas across North America in Summer 2025. The tour will feature Kylie Cantrall, Freya Skye, Malia Baker, Malachi Barton, Dara Reneé, Joshua Colley and Mekonnen Knife. Kicking off in San Diego, CA on July 17, the arena tour will celebrate the chart-topping music from Disney’s “Descendants” and “Zombies” movie franchises, inspiring families, and fans of all ages to dance, sing, and engage with their favorite stars.\\n\\nYou can click here for more information on dates, locations, and tickets: disneynow.com/descendantszombiestour\\n\\nFor more Descendants music videos check out the Descendants Complete Collection: https://www.youtube.com/playlist?list=PLiNVoBckLqLk3oJYvmm5bGcxRprwdJh01\\n\\nCheck out the newest Descendants content here: https://www.youtube.com/playlist?list=PLHAfvwqfR5OD5OAoiiNB1UoMNoVkevbX4\\n\\nListen to your favorite songs from the Descendants soundtracks wherever you stream music.\\n\\nDescendants 1, Descendants 2, and Descendants 3 are now streaming on Disney+\\n\\nDisney+ is the ultimate streaming destination for entertainment from Disney, Pixar, Marvel, Star Wars, and National Geographic. Access it all at https://www.disneyplus.com/\\n\\nSubscribe to DisneyMusicVEVO 🔔 for all the latest Disney music videos: https://www.youtube.com/@DisneyMusicVEVO?sub_confirmation=1\\n\\nFollow Disney Music:\\nInstagram: https://www.instagram.com/disneymusic\\nFacebook: https://www.facebook.com/disneymusic\\nTikTok: https://www.tiktok.com/@disneymusic\\nX: https://www.twitter.com/disneymusic\\n\\nMusic video by China Anne McClain, Thomas Doherty, Dylan Playfair performing What's My Name. (C) 2017 Walt Disney Records\\n\\nhttp://vevo.ly/G3wJOc\\n102165 comments\", \"score\": 0.50065976, \"raw_content\": null}, {\"url\": \"https://www.youtube.com/watch?v=y4tydaltDFY\", \"title\": \"KindlyNxsh - WHAT IS MY NAME? (Official Music Video) - YouTube\", \"content\": \"KindlyNxsh - WHAT IS MY NAME? (Official Music Video). 447K views · 6 months ago #HAPPYBIRTHDAYSOLDIER #4JAN ...more\", \"score\": 0.38762134, \"raw_content\": null}], \"response_time\": 0.93}\n",
      "==================================\u001b[1m Ai Message \u001b[0m==================================\n",
      "\n",
      "It seems like the tool call yielded some relevant results from YouTube videos. However, these results don't seem to directly answer the question \"What is my name\". It's possible that the user is asking a more general question.\n",
      "\n",
      "To better understand the question, I can ask a follow-up question. Can you please clarify what you mean by \"What is my name\"? Are you asking about your own name, or is this a fictional character or entity?\n"
     ]
    }
   ],
   "source": [
    "response=graph.invoke({\"messages\":\"What is my name\"})\n",
    "for m in response[\"messages\"]:\n",
    "    m.pretty_print()"
   ]
  },
  {
   "cell_type": "code",
   "execution_count": 64,
   "id": "a567dd44",
   "metadata": {},
   "outputs": [
    {
     "data": {
      "image/png": "[encoded data removed]",
      "text/plain": [
       "<IPython.core.display.Image object>"
      ]
     },
     "metadata": {},
     "output_type": "display_data"
    }
   ],
   "source": [
    "## Stategraph\n",
    "\n",
    "from langgraph.graph import StateGraph, START, END\n",
    "from langgraph.prebuilt import ToolNode\n",
    "from langgraph.prebuilt import tools_condition\n",
    "from langgraph.checkpoint.memory import MemorySaver\n",
    "\n",
    "memory=MemorySaver()\n",
    "\n",
    "## Node definition\n",
    "def tool_calling_llm(state: State):\n",
    "    return {\"messages\":[llm_with_tool.invoke(state[\"messages\"])]}\n",
    "\n",
    "## Graph\n",
    "builder=StateGraph(State)\n",
    "builder.add_node(\"tool_calling_llm\",tool_calling_llm)\n",
    "builder.add_node(\"tools\", ToolNode(tools))\n",
    "\n",
    "## Add edges\n",
    "builder.add_edge(START, \"tool_calling_llm\")\n",
    "builder.add_conditional_edges(\n",
    "    \"tool_calling_llm\",\n",
    "    # If the latest message (result) from assistance is a tool call -> tools_condition route to tools\n",
    "    # If the latest message (result) from assistance is not a tool call -> tools_condition route to END\n",
    "   tools_condition \n",
    ")\n",
    "builder.add_edge(\"tools\", \"tool_calling_llm\")\n",
    "\n",
    "## compile the graph\n",
    "graph=builder.compile(checkpointer=memory)\n",
    "\n",
    "display(Image(graph.get_graph().draw_mermaid_png()))"
   ]
  },
  {
   "cell_type": "code",
   "execution_count": 65,
   "id": "068b2ee3",
   "metadata": {},
   "outputs": [
    {
     "data": {
      "text/plain": [
       "{'messages': [HumanMessage(content='Hi my name is JY', additional_kwargs={}, response_metadata={}, id='a6771d37-2c65-43a4-93e4-dc7bc5f4a4f4'),\n",
       "  AIMessage(content='Nice to meet you, JY! What brings you here today?', additional_kwargs={}, response_metadata={'token_usage': {'completion_tokens': 15, 'prompt_tokens': 2277, 'total_tokens': 2292, 'completion_time': 0.015400171, 'prompt_time': 0.254413168, 'queue_time': 0.07094778099999999, 'total_time': 0.269813339}, 'model_name': 'llama3-8b-8192', 'system_fingerprint': 'fp_24ec19897b', 'service_tier': 'on_demand', 'finish_reason': 'stop', 'logprobs': None}, id='run--95cb719f-071c-41a8-8a18-480af366ec72-0', usage_metadata={'input_tokens': 2277, 'output_tokens': 15, 'total_tokens': 2292})]}"
      ]
     },
     "execution_count": 65,
     "metadata": {},
     "output_type": "execute_result"
    }
   ],
   "source": [
    "config={\"configurable\":{\"thread_id\":\"1\"}}\n",
    "\n",
    "response = graph.invoke({\"messages\":\"Hi my name is JY\"}, config=config)\n",
    "\n",
    "response"
   ]
  },
  {
   "cell_type": "code",
   "execution_count": 66,
   "id": "49e87a2c",
   "metadata": {},
   "outputs": [
    {
     "data": {
      "text/plain": [
       "'Nice to meet you, JY! What brings you here today?'"
      ]
     },
     "execution_count": 66,
     "metadata": {},
     "output_type": "execute_result"
    }
   ],
   "source": [
    "response['messages'][-1].content"
   ]
  },
  {
   "cell_type": "code",
   "execution_count": 67,
   "id": "7cba406a",
   "metadata": {},
   "outputs": [],
   "source": [
    "response = graph.invoke({\"messages\":\"Hey what is my name\"}, config=config)"
   ]
  },
  {
   "cell_type": "code",
   "execution_count": 68,
   "id": "d121ef4c",
   "metadata": {},
   "outputs": [
    {
     "data": {
      "text/plain": [
       "'Your name is JY.'"
      ]
     },
     "execution_count": 68,
     "metadata": {},
     "output_type": "execute_result"
    }
   ],
   "source": [
    "response['messages'][-1].content"
   ]
  },
  {
   "cell_type": "code",
   "execution_count": 71,
   "id": "323e8b5f",
   "metadata": {},
   "outputs": [],
   "source": [
    "response = graph.invoke({\"messages\":\"Hey do you remember my name\"}, config=config)"
   ]
  },
  {
   "cell_type": "code",
   "execution_count": 72,
   "id": "fb581c8f",
   "metadata": {},
   "outputs": [
    {
     "data": {
      "text/plain": [
       "'Yes, I remember that your name is JY.'"
      ]
     },
     "execution_count": 72,
     "metadata": {},
     "output_type": "execute_result"
    }
   ],
   "source": [
    "response['messages'][-1].content"
   ]
  },
  {
   "cell_type": "markdown",
   "id": "593eb775",
   "metadata": {},
   "source": [
    "### Streaming"
   ]
  },
  {
   "cell_type": "code",
   "execution_count": 73,
   "id": "42b70e94",
   "metadata": {},
   "outputs": [],
   "source": [
    "from langgraph.checkpoint.memory import MemorySaver\n",
    "memory=MemorySaver()"
   ]
  },
  {
   "cell_type": "code",
   "execution_count": 74,
   "id": "bb57ab86",
   "metadata": {},
   "outputs": [],
   "source": [
    "def superbot(state: State):\n",
    "    return {\"messages\":[llm.invoke(state[\"messages\"])]}   "
   ]
  },
  {
   "cell_type": "code",
   "execution_count": 77,
   "id": "23cd0dd8",
   "metadata": {},
   "outputs": [
    {
     "data": {
      "image/png": "[encoded data removed]",
      "text/plain": [
       "<IPython.core.display.Image object>"
      ]
     },
     "metadata": {},
     "output_type": "display_data"
    }
   ],
   "source": [
    "graph=StateGraph(State)\n",
    "\n",
    "## add node\n",
    "graph.add_node(\"Superbot\", superbot)\n",
    "\n",
    "## add edges\n",
    "graph.add_edge(START, \"Superbot\")\n",
    "graph.add_edge(\"Superbot\", END)\n",
    "\n",
    "graph_builder=graph.compile(checkpointer=memory)\n",
    "\n",
    "## display the graph\n",
    "display(Image(graph_builder.get_graph().draw_mermaid_png()))"
   ]
  },
  {
   "cell_type": "code",
   "execution_count": 78,
   "id": "0518ed5c",
   "metadata": {},
   "outputs": [
    {
     "data": {
      "text/plain": [
       "{'messages': [HumanMessage(content='Hi my name is JY and I love football', additional_kwargs={}, response_metadata={}, id='33029a09-7d92-4b86-bf18-a58b92958e29'),\n",
       "  AIMessage(content=\"Nice to meet you JY! Football is an amazing sport, isn't it? Which team do you support? Do you have a favorite player or a special memory related to football?\", additional_kwargs={}, response_metadata={'token_usage': {'completion_tokens': 38, 'prompt_tokens': 20, 'total_tokens': 58, 'completion_time': 0.043674987, 'prompt_time': 0.010420285, 'queue_time': 2.3472976930000002, 'total_time': 0.054095272}, 'model_name': 'llama3-8b-8192', 'system_fingerprint': 'fp_24ec19897b', 'service_tier': 'on_demand', 'finish_reason': 'stop', 'logprobs': None}, id='run--2c739492-1d3f-463c-a985-9468136dd097-0', usage_metadata={'input_tokens': 20, 'output_tokens': 38, 'total_tokens': 58})]}"
      ]
     },
     "execution_count": 78,
     "metadata": {},
     "output_type": "execute_result"
    }
   ],
   "source": [
    "## Invocation\n",
    "\n",
    "config = {\"configurable\":{\"thread_id\":\"1\"}}\n",
    "\n",
    "graph_builder.invoke({\"messages\":\"Hi my name is JY and I love football\"}, config=config)"
   ]
  },
  {
   "cell_type": "markdown",
   "id": "68c8b485",
   "metadata": {},
   "source": [
    "### Streaming\n",
    "* values: This streams the full state of the graph after each node is called.\n",
    "* updates: This stream updates to the state of the graph after each node is called."
   ]
  },
  {
   "cell_type": "code",
   "execution_count": 80,
   "id": "9f30afea",
   "metadata": {},
   "outputs": [
    {
     "name": "stdout",
     "output_type": "stream",
     "text": [
      "{'Superbot': {'messages': [AIMessage(content=\"Hi JY! It's great to meet you! Football is an amazing sport, isn't it? Which team do you support? Are you a big fan of a particular player or league? I'm excited to chat with you about football!\", additional_kwargs={}, response_metadata={'token_usage': {'completion_tokens': 50, 'prompt_tokens': 89, 'total_tokens': 139, 'completion_time': 0.051986887, 'prompt_time': 0.023349355, 'queue_time': 0.048613277999999996, 'total_time': 0.075336242}, 'model_name': 'llama3-8b-8192', 'system_fingerprint': 'fp_24ec19897b', 'service_tier': 'on_demand', 'finish_reason': 'stop', 'logprobs': None}, id='run--ad6ac6f5-046a-43f1-ae3d-2724c459e0f6-0', usage_metadata={'input_tokens': 89, 'output_tokens': 50, 'total_tokens': 139})]}}\n"
     ]
    }
   ],
   "source": [
    "## Invocation\n",
    "\n",
    "config = {\"configurable\":{\"thread_id\":\"3\"}}\n",
    "\n",
    "for chunk in graph_builder.stream({\"messages\":\"Hi my name is JY and I love football\"}, config=config, stream_mode=\"updates\"):\n",
    "    print(chunk)"
   ]
  },
  {
   "cell_type": "code",
   "execution_count": 81,
   "id": "2d0527e2",
   "metadata": {},
   "outputs": [
    {
     "name": "stdout",
     "output_type": "stream",
     "text": [
      "{'messages': [HumanMessage(content='Hi my name is JY and I love football', additional_kwargs={}, response_metadata={}, id='0ca1c177-006c-4ab2-a82a-f4d552fac895'), AIMessage(content=\"Hi JY! It's great to meet you! Football is an amazing sport, isn't it? Which team do you support? Are you a big fan of a particular player or league? I'm excited to chat with you about football!\", additional_kwargs={}, response_metadata={'token_usage': {'completion_tokens': 50, 'prompt_tokens': 20, 'total_tokens': 70, 'completion_time': 0.051995393, 'prompt_time': 0.00415759, 'queue_time': 0.24721869000000002, 'total_time': 0.056152983}, 'model_name': 'llama3-8b-8192', 'system_fingerprint': 'fp_24ec19897b', 'service_tier': 'on_demand', 'finish_reason': 'stop', 'logprobs': None}, id='run--2b19cc68-cb6a-490a-9b28-2f32d61e9d46-0', usage_metadata={'input_tokens': 20, 'output_tokens': 50, 'total_tokens': 70}), HumanMessage(content='Hi my name is JY and I love football', additional_kwargs={}, response_metadata={}, id='e9ecfe0b-89f8-4b28-a95e-6c45830668a6'), AIMessage(content=\"Hi JY! It's great to meet you! Football is an amazing sport, isn't it? Which team do you support? Are you a big fan of a particular player or league? I'm excited to chat with you about football!\", additional_kwargs={}, response_metadata={'token_usage': {'completion_tokens': 50, 'prompt_tokens': 89, 'total_tokens': 139, 'completion_time': 0.051986887, 'prompt_time': 0.023349355, 'queue_time': 0.048613277999999996, 'total_time': 0.075336242}, 'model_name': 'llama3-8b-8192', 'system_fingerprint': 'fp_24ec19897b', 'service_tier': 'on_demand', 'finish_reason': 'stop', 'logprobs': None}, id='run--ad6ac6f5-046a-43f1-ae3d-2724c459e0f6-0', usage_metadata={'input_tokens': 89, 'output_tokens': 50, 'total_tokens': 139}), HumanMessage(content='Hi my name is JY and I love football', additional_kwargs={}, response_metadata={}, id='c9a1dc2a-bd75-441a-9846-f9dcfda3e997')]}\n",
      "{'messages': [HumanMessage(content='Hi my name is JY and I love football', additional_kwargs={}, response_metadata={}, id='0ca1c177-006c-4ab2-a82a-f4d552fac895'), AIMessage(content=\"Hi JY! It's great to meet you! Football is an amazing sport, isn't it? Which team do you support? Are you a big fan of a particular player or league? I'm excited to chat with you about football!\", additional_kwargs={}, response_metadata={'token_usage': {'completion_tokens': 50, 'prompt_tokens': 20, 'total_tokens': 70, 'completion_time': 0.051995393, 'prompt_time': 0.00415759, 'queue_time': 0.24721869000000002, 'total_time': 0.056152983}, 'model_name': 'llama3-8b-8192', 'system_fingerprint': 'fp_24ec19897b', 'service_tier': 'on_demand', 'finish_reason': 'stop', 'logprobs': None}, id='run--2b19cc68-cb6a-490a-9b28-2f32d61e9d46-0', usage_metadata={'input_tokens': 20, 'output_tokens': 50, 'total_tokens': 70}), HumanMessage(content='Hi my name is JY and I love football', additional_kwargs={}, response_metadata={}, id='e9ecfe0b-89f8-4b28-a95e-6c45830668a6'), AIMessage(content=\"Hi JY! It's great to meet you! Football is an amazing sport, isn't it? Which team do you support? Are you a big fan of a particular player or league? I'm excited to chat with you about football!\", additional_kwargs={}, response_metadata={'token_usage': {'completion_tokens': 50, 'prompt_tokens': 89, 'total_tokens': 139, 'completion_time': 0.051986887, 'prompt_time': 0.023349355, 'queue_time': 0.048613277999999996, 'total_time': 0.075336242}, 'model_name': 'llama3-8b-8192', 'system_fingerprint': 'fp_24ec19897b', 'service_tier': 'on_demand', 'finish_reason': 'stop', 'logprobs': None}, id='run--ad6ac6f5-046a-43f1-ae3d-2724c459e0f6-0', usage_metadata={'input_tokens': 89, 'output_tokens': 50, 'total_tokens': 139}), HumanMessage(content='Hi my name is JY and I love football', additional_kwargs={}, response_metadata={}, id='c9a1dc2a-bd75-441a-9846-f9dcfda3e997'), AIMessage(content=\"Hi JY! It's great to meet you! Football is an amazing sport, isn't it? Which team do you support? Are you a big fan of a particular player or league? I'm excited to chat with you about football!\", additional_kwargs={}, response_metadata={'token_usage': {'completion_tokens': 50, 'prompt_tokens': 158, 'total_tokens': 208, 'completion_time': 0.052866482, 'prompt_time': 0.040481157, 'queue_time': 0.069314132, 'total_time': 0.093347639}, 'model_name': 'llama3-8b-8192', 'system_fingerprint': 'fp_24ec19897b', 'service_tier': 'on_demand', 'finish_reason': 'stop', 'logprobs': None}, id='run--e9d20cca-5f53-4e68-9b2b-9373f6ed962a-0', usage_metadata={'input_tokens': 158, 'output_tokens': 50, 'total_tokens': 208})]}\n"
     ]
    }
   ],
   "source": [
    "for chunk in graph_builder.stream({\"messages\":\"Hi my name is JY and I love football\"}, config=config, stream_mode=\"values\"):\n",
    "    print(chunk)\n"
   ]
  },
  {
   "cell_type": "code",
   "execution_count": 85,
   "id": "955fd915",
   "metadata": {},
   "outputs": [
    {
     "name": "stdout",
     "output_type": "stream",
     "text": [
      "{'Superbot': {'messages': [AIMessage(content=\"Hi JY! Nice to meet you! Football is a great passion to have! Which team do you support? Do you have a favorite player or a memorable match that you'll always cherish? Let's chat about football!\", additional_kwargs={}, response_metadata={'token_usage': {'completion_tokens': 46, 'prompt_tokens': 20, 'total_tokens': 66, 'completion_time': 0.048206726, 'prompt_time': 0.003192997, 'queue_time': 0.048657833, 'total_time': 0.051399723}, 'model_name': 'llama3-8b-8192', 'system_fingerprint': 'fp_24ec19897b', 'service_tier': 'on_demand', 'finish_reason': 'stop', 'logprobs': None}, id='run--4bcf5ea1-a2da-4144-819f-bbb53208cf7e-0', usage_metadata={'input_tokens': 20, 'output_tokens': 46, 'total_tokens': 66})]}}\n"
     ]
    }
   ],
   "source": [
    "## Invocation\n",
    "\n",
    "config = {\"configurable\":{\"thread_id\":\"5\"}}\n",
    "\n",
    "for chunk in graph_builder.stream({\"messages\":\"Hi my name is JY and I love football\"}, config, stream_mode=\"updates\"):\n",
    "    print(chunk)"
   ]
  },
  {
   "cell_type": "code",
   "execution_count": 86,
   "id": "d2b6998d",
   "metadata": {},
   "outputs": [
    {
     "name": "stdout",
     "output_type": "stream",
     "text": [
      "{'messages': [HumanMessage(content='Hi my name is JY and I love football', additional_kwargs={}, response_metadata={}, id='9c458c65-9e6e-41aa-8470-95f442b0cce8'), AIMessage(content=\"Hi JY! Nice to meet you! Football is a great passion to have! Which team do you support? Do you have a favorite player or a memorable match that you'll always cherish? Let's chat about football!\", additional_kwargs={}, response_metadata={'token_usage': {'completion_tokens': 46, 'prompt_tokens': 20, 'total_tokens': 66, 'completion_time': 0.048206726, 'prompt_time': 0.003192997, 'queue_time': 0.048657833, 'total_time': 0.051399723}, 'model_name': 'llama3-8b-8192', 'system_fingerprint': 'fp_24ec19897b', 'service_tier': 'on_demand', 'finish_reason': 'stop', 'logprobs': None}, id='run--4bcf5ea1-a2da-4144-819f-bbb53208cf7e-0', usage_metadata={'input_tokens': 20, 'output_tokens': 46, 'total_tokens': 66}), HumanMessage(content='I also love basketball', additional_kwargs={}, response_metadata={}, id='26ef453e-99c9-4416-ae29-50c54584ee15')]}\n",
      "{'messages': [HumanMessage(content='Hi my name is JY and I love football', additional_kwargs={}, response_metadata={}, id='9c458c65-9e6e-41aa-8470-95f442b0cce8'), AIMessage(content=\"Hi JY! Nice to meet you! Football is a great passion to have! Which team do you support? Do you have a favorite player or a memorable match that you'll always cherish? Let's chat about football!\", additional_kwargs={}, response_metadata={'token_usage': {'completion_tokens': 46, 'prompt_tokens': 20, 'total_tokens': 66, 'completion_time': 0.048206726, 'prompt_time': 0.003192997, 'queue_time': 0.048657833, 'total_time': 0.051399723}, 'model_name': 'llama3-8b-8192', 'system_fingerprint': 'fp_24ec19897b', 'service_tier': 'on_demand', 'finish_reason': 'stop', 'logprobs': None}, id='run--4bcf5ea1-a2da-4144-819f-bbb53208cf7e-0', usage_metadata={'input_tokens': 20, 'output_tokens': 46, 'total_tokens': 66}), HumanMessage(content='I also love basketball', additional_kwargs={}, response_metadata={}, id='26ef453e-99c9-4416-ae29-50c54584ee15'), AIMessage(content=\"A double threat! JY, you're a sports enthusiast with a love for both football and basketball! Which league or team do you follow most closely in basketball? Are you a fan of the NBA, the WNBA, or maybe college basketball? Do you have a favorite player or a memorable game that stands out to you? Let's talk hoops!\", additional_kwargs={}, response_metadata={'token_usage': {'completion_tokens': 72, 'prompt_tokens': 79, 'total_tokens': 151, 'completion_time': 0.088800767, 'prompt_time': 0.0421132, 'queue_time': 0.04830095599999999, 'total_time': 0.130913967}, 'model_name': 'llama3-8b-8192', 'system_fingerprint': 'fp_24ec19897b', 'service_tier': 'on_demand', 'finish_reason': 'stop', 'logprobs': None}, id='run--0e391169-5dc9-445b-b01f-f3aaecd89a2b-0', usage_metadata={'input_tokens': 79, 'output_tokens': 72, 'total_tokens': 151})]}\n"
     ]
    }
   ],
   "source": [
    "for chunk in graph_builder.stream({\"messages\":\"I also love basketball\"}, config, stream_mode=\"values\"):\n",
    "    print(chunk)"
   ]
  },
  {
   "cell_type": "code",
   "execution_count": 87,
   "id": "793e2f06",
   "metadata": {},
   "outputs": [
    {
     "name": "stdout",
     "output_type": "stream",
     "text": [
      "{'event': 'on_chain_start', 'data': {'input': {'messages': ['Hi my name is JY and I love football']}}, 'name': 'LangGraph', 'tags': [], 'run_id': 'bfb4b2fe-c528-44cc-923d-8f6c6cc76b19', 'metadata': {'thread_id': '6'}, 'parent_ids': []}\n",
      "{'event': 'on_chain_start', 'data': {'input': {'messages': [HumanMessage(content='Hi my name is JY and I love football', additional_kwargs={}, response_metadata={}, id='ae4ef91a-c32f-4a3d-b521-3ca001c125e7')]}}, 'name': 'Superbot', 'tags': ['graph:step:1'], 'run_id': '2b561302-aadf-4e98-923f-7f3127538b6c', 'metadata': {'thread_id': '6', 'langgraph_step': 1, 'langgraph_node': 'Superbot', 'langgraph_triggers': ('branch:to:Superbot',), 'langgraph_path': ('__pregel_pull', 'Superbot'), 'langgraph_checkpoint_ns': 'Superbot:c248a5fc-5fb4-4f14-236a-d09714be9a16'}, 'parent_ids': ['bfb4b2fe-c528-44cc-923d-8f6c6cc76b19']}\n",
      "{'event': 'on_chat_model_start', 'data': {'input': {'messages': [[HumanMessage(content='Hi my name is JY and I love football', additional_kwargs={}, response_metadata={}, id='ae4ef91a-c32f-4a3d-b521-3ca001c125e7')]]}}, 'name': 'ChatGroq', 'tags': ['seq:step:1'], 'run_id': '22333ddc-8a44-4a24-9365-cb8c1d3e0dcf', 'metadata': {'thread_id': '6', 'langgraph_step': 1, 'langgraph_node': 'Superbot', 'langgraph_triggers': ('branch:to:Superbot',), 'langgraph_path': ('__pregel_pull', 'Superbot'), 'langgraph_checkpoint_ns': 'Superbot:c248a5fc-5fb4-4f14-236a-d09714be9a16', 'checkpoint_ns': 'Superbot:c248a5fc-5fb4-4f14-236a-d09714be9a16', 'ls_provider': 'groq', 'ls_model_name': 'llama3-8b-8192', 'ls_model_type': 'chat', 'ls_temperature': 0.7}, 'parent_ids': ['bfb4b2fe-c528-44cc-923d-8f6c6cc76b19', '2b561302-aadf-4e98-923f-7f3127538b6c']}\n",
      "{'event': 'on_chat_model_stream', 'data': {'chunk': AIMessageChunk(content='', additional_kwargs={}, response_metadata={}, id='run--22333ddc-8a44-4a24-9365-cb8c1d3e0dcf')}, 'run_id': '22333ddc-8a44-4a24-9365-cb8c1d3e0dcf', 'name': 'ChatGroq', 'tags': ['seq:step:1'], 'metadata': {'thread_id': '6', 'langgraph_step': 1, 'langgraph_node': 'Superbot', 'langgraph_triggers': ('branch:to:Superbot',), 'langgraph_path': ('__pregel_pull', 'Superbot'), 'langgraph_checkpoint_ns': 'Superbot:c248a5fc-5fb4-4f14-236a-d09714be9a16', 'checkpoint_ns': 'Superbot:c248a5fc-5fb4-4f14-236a-d09714be9a16', 'ls_provider': 'groq', 'ls_model_name': 'llama3-8b-8192', 'ls_model_type': 'chat', 'ls_temperature': 0.7}, 'parent_ids': ['bfb4b2fe-c528-44cc-923d-8f6c6cc76b19', '2b561302-aadf-4e98-923f-7f3127538b6c']}\n",
      "{'event': 'on_chat_model_stream', 'data': {'chunk': AIMessageChunk(content='Hi', additional_kwargs={}, response_metadata={}, id='run--22333ddc-8a44-4a24-9365-cb8c1d3e0dcf')}, 'run_id': '22333ddc-8a44-4a24-9365-cb8c1d3e0dcf', 'name': 'ChatGroq', 'tags': ['seq:step:1'], 'metadata': {'thread_id': '6', 'langgraph_step': 1, 'langgraph_node': 'Superbot', 'langgraph_triggers': ('branch:to:Superbot',), 'langgraph_path': ('__pregel_pull', 'Superbot'), 'langgraph_checkpoint_ns': 'Superbot:c248a5fc-5fb4-4f14-236a-d09714be9a16', 'checkpoint_ns': 'Superbot:c248a5fc-5fb4-4f14-236a-d09714be9a16', 'ls_provider': 'groq', 'ls_model_name': 'llama3-8b-8192', 'ls_model_type': 'chat', 'ls_temperature': 0.7}, 'parent_ids': ['bfb4b2fe-c528-44cc-923d-8f6c6cc76b19', '2b561302-aadf-4e98-923f-7f3127538b6c']}\n",
      "{'event': 'on_chat_model_stream', 'data': {'chunk': AIMessageChunk(content=' J', additional_kwargs={}, response_metadata={}, id='run--22333ddc-8a44-4a24-9365-cb8c1d3e0dcf')}, 'run_id': '22333ddc-8a44-4a24-9365-cb8c1d3e0dcf', 'name': 'ChatGroq', 'tags': ['seq:step:1'], 'metadata': {'thread_id': '6', 'langgraph_step': 1, 'langgraph_node': 'Superbot', 'langgraph_triggers': ('branch:to:Superbot',), 'langgraph_path': ('__pregel_pull', 'Superbot'), 'langgraph_checkpoint_ns': 'Superbot:c248a5fc-5fb4-4f14-236a-d09714be9a16', 'checkpoint_ns': 'Superbot:c248a5fc-5fb4-4f14-236a-d09714be9a16', 'ls_provider': 'groq', 'ls_model_name': 'llama3-8b-8192', 'ls_model_type': 'chat', 'ls_temperature': 0.7}, 'parent_ids': ['bfb4b2fe-c528-44cc-923d-8f6c6cc76b19', '2b561302-aadf-4e98-923f-7f3127538b6c']}\n",
      "{'event': 'on_chat_model_stream', 'data': {'chunk': AIMessageChunk(content='Y', additional_kwargs={}, response_metadata={}, id='run--22333ddc-8a44-4a24-9365-cb8c1d3e0dcf')}, 'run_id': '22333ddc-8a44-4a24-9365-cb8c1d3e0dcf', 'name': 'ChatGroq', 'tags': ['seq:step:1'], 'metadata': {'thread_id': '6', 'langgraph_step': 1, 'langgraph_node': 'Superbot', 'langgraph_triggers': ('branch:to:Superbot',), 'langgraph_path': ('__pregel_pull', 'Superbot'), 'langgraph_checkpoint_ns': 'Superbot:c248a5fc-5fb4-4f14-236a-d09714be9a16', 'checkpoint_ns': 'Superbot:c248a5fc-5fb4-4f14-236a-d09714be9a16', 'ls_provider': 'groq', 'ls_model_name': 'llama3-8b-8192', 'ls_model_type': 'chat', 'ls_temperature': 0.7}, 'parent_ids': ['bfb4b2fe-c528-44cc-923d-8f6c6cc76b19', '2b561302-aadf-4e98-923f-7f3127538b6c']}\n",
      "{'event': 'on_chat_model_stream', 'data': {'chunk': AIMessageChunk(content='!', additional_kwargs={}, response_metadata={}, id='run--22333ddc-8a44-4a24-9365-cb8c1d3e0dcf')}, 'run_id': '22333ddc-8a44-4a24-9365-cb8c1d3e0dcf', 'name': 'ChatGroq', 'tags': ['seq:step:1'], 'metadata': {'thread_id': '6', 'langgraph_step': 1, 'langgraph_node': 'Superbot', 'langgraph_triggers': ('branch:to:Superbot',), 'langgraph_path': ('__pregel_pull', 'Superbot'), 'langgraph_checkpoint_ns': 'Superbot:c248a5fc-5fb4-4f14-236a-d09714be9a16', 'checkpoint_ns': 'Superbot:c248a5fc-5fb4-4f14-236a-d09714be9a16', 'ls_provider': 'groq', 'ls_model_name': 'llama3-8b-8192', 'ls_model_type': 'chat', 'ls_temperature': 0.7}, 'parent_ids': ['bfb4b2fe-c528-44cc-923d-8f6c6cc76b19', '2b561302-aadf-4e98-923f-7f3127538b6c']}\n",
      "{'event': 'on_chat_model_stream', 'data': {'chunk': AIMessageChunk(content=' It', additional_kwargs={}, response_metadata={}, id='run--22333ddc-8a44-4a24-9365-cb8c1d3e0dcf')}, 'run_id': '22333ddc-8a44-4a24-9365-cb8c1d3e0dcf', 'name': 'ChatGroq', 'tags': ['seq:step:1'], 'metadata': {'thread_id': '6', 'langgraph_step': 1, 'langgraph_node': 'Superbot', 'langgraph_triggers': ('branch:to:Superbot',), 'langgraph_path': ('__pregel_pull', 'Superbot'), 'langgraph_checkpoint_ns': 'Superbot:c248a5fc-5fb4-4f14-236a-d09714be9a16', 'checkpoint_ns': 'Superbot:c248a5fc-5fb4-4f14-236a-d09714be9a16', 'ls_provider': 'groq', 'ls_model_name': 'llama3-8b-8192', 'ls_model_type': 'chat', 'ls_temperature': 0.7}, 'parent_ids': ['bfb4b2fe-c528-44cc-923d-8f6c6cc76b19', '2b561302-aadf-4e98-923f-7f3127538b6c']}\n",
      "{'event': 'on_chat_model_stream', 'data': {'chunk': AIMessageChunk(content=\"'s\", additional_kwargs={}, response_metadata={}, id='run--22333ddc-8a44-4a24-9365-cb8c1d3e0dcf')}, 'run_id': '22333ddc-8a44-4a24-9365-cb8c1d3e0dcf', 'name': 'ChatGroq', 'tags': ['seq:step:1'], 'metadata': {'thread_id': '6', 'langgraph_step': 1, 'langgraph_node': 'Superbot', 'langgraph_triggers': ('branch:to:Superbot',), 'langgraph_path': ('__pregel_pull', 'Superbot'), 'langgraph_checkpoint_ns': 'Superbot:c248a5fc-5fb4-4f14-236a-d09714be9a16', 'checkpoint_ns': 'Superbot:c248a5fc-5fb4-4f14-236a-d09714be9a16', 'ls_provider': 'groq', 'ls_model_name': 'llama3-8b-8192', 'ls_model_type': 'chat', 'ls_temperature': 0.7}, 'parent_ids': ['bfb4b2fe-c528-44cc-923d-8f6c6cc76b19', '2b561302-aadf-4e98-923f-7f3127538b6c']}\n",
      "{'event': 'on_chat_model_stream', 'data': {'chunk': AIMessageChunk(content=' great', additional_kwargs={}, response_metadata={}, id='run--22333ddc-8a44-4a24-9365-cb8c1d3e0dcf')}, 'run_id': '22333ddc-8a44-4a24-9365-cb8c1d3e0dcf', 'name': 'ChatGroq', 'tags': ['seq:step:1'], 'metadata': {'thread_id': '6', 'langgraph_step': 1, 'langgraph_node': 'Superbot', 'langgraph_triggers': ('branch:to:Superbot',), 'langgraph_path': ('__pregel_pull', 'Superbot'), 'langgraph_checkpoint_ns': 'Superbot:c248a5fc-5fb4-4f14-236a-d09714be9a16', 'checkpoint_ns': 'Superbot:c248a5fc-5fb4-4f14-236a-d09714be9a16', 'ls_provider': 'groq', 'ls_model_name': 'llama3-8b-8192', 'ls_model_type': 'chat', 'ls_temperature': 0.7}, 'parent_ids': ['bfb4b2fe-c528-44cc-923d-8f6c6cc76b19', '2b561302-aadf-4e98-923f-7f3127538b6c']}\n",
      "{'event': 'on_chat_model_stream', 'data': {'chunk': AIMessageChunk(content=' to', additional_kwargs={}, response_metadata={}, id='run--22333ddc-8a44-4a24-9365-cb8c1d3e0dcf')}, 'run_id': '22333ddc-8a44-4a24-9365-cb8c1d3e0dcf', 'name': 'ChatGroq', 'tags': ['seq:step:1'], 'metadata': {'thread_id': '6', 'langgraph_step': 1, 'langgraph_node': 'Superbot', 'langgraph_triggers': ('branch:to:Superbot',), 'langgraph_path': ('__pregel_pull', 'Superbot'), 'langgraph_checkpoint_ns': 'Superbot:c248a5fc-5fb4-4f14-236a-d09714be9a16', 'checkpoint_ns': 'Superbot:c248a5fc-5fb4-4f14-236a-d09714be9a16', 'ls_provider': 'groq', 'ls_model_name': 'llama3-8b-8192', 'ls_model_type': 'chat', 'ls_temperature': 0.7}, 'parent_ids': ['bfb4b2fe-c528-44cc-923d-8f6c6cc76b19', '2b561302-aadf-4e98-923f-7f3127538b6c']}\n",
      "{'event': 'on_chat_model_stream', 'data': {'chunk': AIMessageChunk(content=' meet', additional_kwargs={}, response_metadata={}, id='run--22333ddc-8a44-4a24-9365-cb8c1d3e0dcf')}, 'run_id': '22333ddc-8a44-4a24-9365-cb8c1d3e0dcf', 'name': 'ChatGroq', 'tags': ['seq:step:1'], 'metadata': {'thread_id': '6', 'langgraph_step': 1, 'langgraph_node': 'Superbot', 'langgraph_triggers': ('branch:to:Superbot',), 'langgraph_path': ('__pregel_pull', 'Superbot'), 'langgraph_checkpoint_ns': 'Superbot:c248a5fc-5fb4-4f14-236a-d09714be9a16', 'checkpoint_ns': 'Superbot:c248a5fc-5fb4-4f14-236a-d09714be9a16', 'ls_provider': 'groq', 'ls_model_name': 'llama3-8b-8192', 'ls_model_type': 'chat', 'ls_temperature': 0.7}, 'parent_ids': ['bfb4b2fe-c528-44cc-923d-8f6c6cc76b19', '2b561302-aadf-4e98-923f-7f3127538b6c']}\n",
      "{'event': 'on_chat_model_stream', 'data': {'chunk': AIMessageChunk(content=' you', additional_kwargs={}, response_metadata={}, id='run--22333ddc-8a44-4a24-9365-cb8c1d3e0dcf')}, 'run_id': '22333ddc-8a44-4a24-9365-cb8c1d3e0dcf', 'name': 'ChatGroq', 'tags': ['seq:step:1'], 'metadata': {'thread_id': '6', 'langgraph_step': 1, 'langgraph_node': 'Superbot', 'langgraph_triggers': ('branch:to:Superbot',), 'langgraph_path': ('__pregel_pull', 'Superbot'), 'langgraph_checkpoint_ns': 'Superbot:c248a5fc-5fb4-4f14-236a-d09714be9a16', 'checkpoint_ns': 'Superbot:c248a5fc-5fb4-4f14-236a-d09714be9a16', 'ls_provider': 'groq', 'ls_model_name': 'llama3-8b-8192', 'ls_model_type': 'chat', 'ls_temperature': 0.7}, 'parent_ids': ['bfb4b2fe-c528-44cc-923d-8f6c6cc76b19', '2b561302-aadf-4e98-923f-7f3127538b6c']}\n",
      "{'event': 'on_chat_model_stream', 'data': {'chunk': AIMessageChunk(content='!', additional_kwargs={}, response_metadata={}, id='run--22333ddc-8a44-4a24-9365-cb8c1d3e0dcf')}, 'run_id': '22333ddc-8a44-4a24-9365-cb8c1d3e0dcf', 'name': 'ChatGroq', 'tags': ['seq:step:1'], 'metadata': {'thread_id': '6', 'langgraph_step': 1, 'langgraph_node': 'Superbot', 'langgraph_triggers': ('branch:to:Superbot',), 'langgraph_path': ('__pregel_pull', 'Superbot'), 'langgraph_checkpoint_ns': 'Superbot:c248a5fc-5fb4-4f14-236a-d09714be9a16', 'checkpoint_ns': 'Superbot:c248a5fc-5fb4-4f14-236a-d09714be9a16', 'ls_provider': 'groq', 'ls_model_name': 'llama3-8b-8192', 'ls_model_type': 'chat', 'ls_temperature': 0.7}, 'parent_ids': ['bfb4b2fe-c528-44cc-923d-8f6c6cc76b19', '2b561302-aadf-4e98-923f-7f3127538b6c']}\n",
      "{'event': 'on_chat_model_stream', 'data': {'chunk': AIMessageChunk(content=' Football', additional_kwargs={}, response_metadata={}, id='run--22333ddc-8a44-4a24-9365-cb8c1d3e0dcf')}, 'run_id': '22333ddc-8a44-4a24-9365-cb8c1d3e0dcf', 'name': 'ChatGroq', 'tags': ['seq:step:1'], 'metadata': {'thread_id': '6', 'langgraph_step': 1, 'langgraph_node': 'Superbot', 'langgraph_triggers': ('branch:to:Superbot',), 'langgraph_path': ('__pregel_pull', 'Superbot'), 'langgraph_checkpoint_ns': 'Superbot:c248a5fc-5fb4-4f14-236a-d09714be9a16', 'checkpoint_ns': 'Superbot:c248a5fc-5fb4-4f14-236a-d09714be9a16', 'ls_provider': 'groq', 'ls_model_name': 'llama3-8b-8192', 'ls_model_type': 'chat', 'ls_temperature': 0.7}, 'parent_ids': ['bfb4b2fe-c528-44cc-923d-8f6c6cc76b19', '2b561302-aadf-4e98-923f-7f3127538b6c']}\n",
      "{'event': 'on_chat_model_stream', 'data': {'chunk': AIMessageChunk(content=' is', additional_kwargs={}, response_metadata={}, id='run--22333ddc-8a44-4a24-9365-cb8c1d3e0dcf')}, 'run_id': '22333ddc-8a44-4a24-9365-cb8c1d3e0dcf', 'name': 'ChatGroq', 'tags': ['seq:step:1'], 'metadata': {'thread_id': '6', 'langgraph_step': 1, 'langgraph_node': 'Superbot', 'langgraph_triggers': ('branch:to:Superbot',), 'langgraph_path': ('__pregel_pull', 'Superbot'), 'langgraph_checkpoint_ns': 'Superbot:c248a5fc-5fb4-4f14-236a-d09714be9a16', 'checkpoint_ns': 'Superbot:c248a5fc-5fb4-4f14-236a-d09714be9a16', 'ls_provider': 'groq', 'ls_model_name': 'llama3-8b-8192', 'ls_model_type': 'chat', 'ls_temperature': 0.7}, 'parent_ids': ['bfb4b2fe-c528-44cc-923d-8f6c6cc76b19', '2b561302-aadf-4e98-923f-7f3127538b6c']}\n",
      "{'event': 'on_chat_model_stream', 'data': {'chunk': AIMessageChunk(content=' an', additional_kwargs={}, response_metadata={}, id='run--22333ddc-8a44-4a24-9365-cb8c1d3e0dcf')}, 'run_id': '22333ddc-8a44-4a24-9365-cb8c1d3e0dcf', 'name': 'ChatGroq', 'tags': ['seq:step:1'], 'metadata': {'thread_id': '6', 'langgraph_step': 1, 'langgraph_node': 'Superbot', 'langgraph_triggers': ('branch:to:Superbot',), 'langgraph_path': ('__pregel_pull', 'Superbot'), 'langgraph_checkpoint_ns': 'Superbot:c248a5fc-5fb4-4f14-236a-d09714be9a16', 'checkpoint_ns': 'Superbot:c248a5fc-5fb4-4f14-236a-d09714be9a16', 'ls_provider': 'groq', 'ls_model_name': 'llama3-8b-8192', 'ls_model_type': 'chat', 'ls_temperature': 0.7}, 'parent_ids': ['bfb4b2fe-c528-44cc-923d-8f6c6cc76b19', '2b561302-aadf-4e98-923f-7f3127538b6c']}\n",
      "{'event': 'on_chat_model_stream', 'data': {'chunk': AIMessageChunk(content=' amazing', additional_kwargs={}, response_metadata={}, id='run--22333ddc-8a44-4a24-9365-cb8c1d3e0dcf')}, 'run_id': '22333ddc-8a44-4a24-9365-cb8c1d3e0dcf', 'name': 'ChatGroq', 'tags': ['seq:step:1'], 'metadata': {'thread_id': '6', 'langgraph_step': 1, 'langgraph_node': 'Superbot', 'langgraph_triggers': ('branch:to:Superbot',), 'langgraph_path': ('__pregel_pull', 'Superbot'), 'langgraph_checkpoint_ns': 'Superbot:c248a5fc-5fb4-4f14-236a-d09714be9a16', 'checkpoint_ns': 'Superbot:c248a5fc-5fb4-4f14-236a-d09714be9a16', 'ls_provider': 'groq', 'ls_model_name': 'llama3-8b-8192', 'ls_model_type': 'chat', 'ls_temperature': 0.7}, 'parent_ids': ['bfb4b2fe-c528-44cc-923d-8f6c6cc76b19', '2b561302-aadf-4e98-923f-7f3127538b6c']}\n",
      "{'event': 'on_chat_model_stream', 'data': {'chunk': AIMessageChunk(content=' sport', additional_kwargs={}, response_metadata={}, id='run--22333ddc-8a44-4a24-9365-cb8c1d3e0dcf')}, 'run_id': '22333ddc-8a44-4a24-9365-cb8c1d3e0dcf', 'name': 'ChatGroq', 'tags': ['seq:step:1'], 'metadata': {'thread_id': '6', 'langgraph_step': 1, 'langgraph_node': 'Superbot', 'langgraph_triggers': ('branch:to:Superbot',), 'langgraph_path': ('__pregel_pull', 'Superbot'), 'langgraph_checkpoint_ns': 'Superbot:c248a5fc-5fb4-4f14-236a-d09714be9a16', 'checkpoint_ns': 'Superbot:c248a5fc-5fb4-4f14-236a-d09714be9a16', 'ls_provider': 'groq', 'ls_model_name': 'llama3-8b-8192', 'ls_model_type': 'chat', 'ls_temperature': 0.7}, 'parent_ids': ['bfb4b2fe-c528-44cc-923d-8f6c6cc76b19', '2b561302-aadf-4e98-923f-7f3127538b6c']}\n",
      "{'event': 'on_chat_model_stream', 'data': {'chunk': AIMessageChunk(content=',', additional_kwargs={}, response_metadata={}, id='run--22333ddc-8a44-4a24-9365-cb8c1d3e0dcf')}, 'run_id': '22333ddc-8a44-4a24-9365-cb8c1d3e0dcf', 'name': 'ChatGroq', 'tags': ['seq:step:1'], 'metadata': {'thread_id': '6', 'langgraph_step': 1, 'langgraph_node': 'Superbot', 'langgraph_triggers': ('branch:to:Superbot',), 'langgraph_path': ('__pregel_pull', 'Superbot'), 'langgraph_checkpoint_ns': 'Superbot:c248a5fc-5fb4-4f14-236a-d09714be9a16', 'checkpoint_ns': 'Superbot:c248a5fc-5fb4-4f14-236a-d09714be9a16', 'ls_provider': 'groq', 'ls_model_name': 'llama3-8b-8192', 'ls_model_type': 'chat', 'ls_temperature': 0.7}, 'parent_ids': ['bfb4b2fe-c528-44cc-923d-8f6c6cc76b19', '2b561302-aadf-4e98-923f-7f3127538b6c']}\n",
      "{'event': 'on_chat_model_stream', 'data': {'chunk': AIMessageChunk(content=' isn', additional_kwargs={}, response_metadata={}, id='run--22333ddc-8a44-4a24-9365-cb8c1d3e0dcf')}, 'run_id': '22333ddc-8a44-4a24-9365-cb8c1d3e0dcf', 'name': 'ChatGroq', 'tags': ['seq:step:1'], 'metadata': {'thread_id': '6', 'langgraph_step': 1, 'langgraph_node': 'Superbot', 'langgraph_triggers': ('branch:to:Superbot',), 'langgraph_path': ('__pregel_pull', 'Superbot'), 'langgraph_checkpoint_ns': 'Superbot:c248a5fc-5fb4-4f14-236a-d09714be9a16', 'checkpoint_ns': 'Superbot:c248a5fc-5fb4-4f14-236a-d09714be9a16', 'ls_provider': 'groq', 'ls_model_name': 'llama3-8b-8192', 'ls_model_type': 'chat', 'ls_temperature': 0.7}, 'parent_ids': ['bfb4b2fe-c528-44cc-923d-8f6c6cc76b19', '2b561302-aadf-4e98-923f-7f3127538b6c']}\n",
      "{'event': 'on_chat_model_stream', 'data': {'chunk': AIMessageChunk(content=\"'t\", additional_kwargs={}, response_metadata={}, id='run--22333ddc-8a44-4a24-9365-cb8c1d3e0dcf')}, 'run_id': '22333ddc-8a44-4a24-9365-cb8c1d3e0dcf', 'name': 'ChatGroq', 'tags': ['seq:step:1'], 'metadata': {'thread_id': '6', 'langgraph_step': 1, 'langgraph_node': 'Superbot', 'langgraph_triggers': ('branch:to:Superbot',), 'langgraph_path': ('__pregel_pull', 'Superbot'), 'langgraph_checkpoint_ns': 'Superbot:c248a5fc-5fb4-4f14-236a-d09714be9a16', 'checkpoint_ns': 'Superbot:c248a5fc-5fb4-4f14-236a-d09714be9a16', 'ls_provider': 'groq', 'ls_model_name': 'llama3-8b-8192', 'ls_model_type': 'chat', 'ls_temperature': 0.7}, 'parent_ids': ['bfb4b2fe-c528-44cc-923d-8f6c6cc76b19', '2b561302-aadf-4e98-923f-7f3127538b6c']}\n",
      "{'event': 'on_chat_model_stream', 'data': {'chunk': AIMessageChunk(content=' it', additional_kwargs={}, response_metadata={}, id='run--22333ddc-8a44-4a24-9365-cb8c1d3e0dcf')}, 'run_id': '22333ddc-8a44-4a24-9365-cb8c1d3e0dcf', 'name': 'ChatGroq', 'tags': ['seq:step:1'], 'metadata': {'thread_id': '6', 'langgraph_step': 1, 'langgraph_node': 'Superbot', 'langgraph_triggers': ('branch:to:Superbot',), 'langgraph_path': ('__pregel_pull', 'Superbot'), 'langgraph_checkpoint_ns': 'Superbot:c248a5fc-5fb4-4f14-236a-d09714be9a16', 'checkpoint_ns': 'Superbot:c248a5fc-5fb4-4f14-236a-d09714be9a16', 'ls_provider': 'groq', 'ls_model_name': 'llama3-8b-8192', 'ls_model_type': 'chat', 'ls_temperature': 0.7}, 'parent_ids': ['bfb4b2fe-c528-44cc-923d-8f6c6cc76b19', '2b561302-aadf-4e98-923f-7f3127538b6c']}\n",
      "{'event': 'on_chat_model_stream', 'data': {'chunk': AIMessageChunk(content='?', additional_kwargs={}, response_metadata={}, id='run--22333ddc-8a44-4a24-9365-cb8c1d3e0dcf')}, 'run_id': '22333ddc-8a44-4a24-9365-cb8c1d3e0dcf', 'name': 'ChatGroq', 'tags': ['seq:step:1'], 'metadata': {'thread_id': '6', 'langgraph_step': 1, 'langgraph_node': 'Superbot', 'langgraph_triggers': ('branch:to:Superbot',), 'langgraph_path': ('__pregel_pull', 'Superbot'), 'langgraph_checkpoint_ns': 'Superbot:c248a5fc-5fb4-4f14-236a-d09714be9a16', 'checkpoint_ns': 'Superbot:c248a5fc-5fb4-4f14-236a-d09714be9a16', 'ls_provider': 'groq', 'ls_model_name': 'llama3-8b-8192', 'ls_model_type': 'chat', 'ls_temperature': 0.7}, 'parent_ids': ['bfb4b2fe-c528-44cc-923d-8f6c6cc76b19', '2b561302-aadf-4e98-923f-7f3127538b6c']}\n",
      "{'event': 'on_chat_model_stream', 'data': {'chunk': AIMessageChunk(content=' Which', additional_kwargs={}, response_metadata={}, id='run--22333ddc-8a44-4a24-9365-cb8c1d3e0dcf')}, 'run_id': '22333ddc-8a44-4a24-9365-cb8c1d3e0dcf', 'name': 'ChatGroq', 'tags': ['seq:step:1'], 'metadata': {'thread_id': '6', 'langgraph_step': 1, 'langgraph_node': 'Superbot', 'langgraph_triggers': ('branch:to:Superbot',), 'langgraph_path': ('__pregel_pull', 'Superbot'), 'langgraph_checkpoint_ns': 'Superbot:c248a5fc-5fb4-4f14-236a-d09714be9a16', 'checkpoint_ns': 'Superbot:c248a5fc-5fb4-4f14-236a-d09714be9a16', 'ls_provider': 'groq', 'ls_model_name': 'llama3-8b-8192', 'ls_model_type': 'chat', 'ls_temperature': 0.7}, 'parent_ids': ['bfb4b2fe-c528-44cc-923d-8f6c6cc76b19', '2b561302-aadf-4e98-923f-7f3127538b6c']}\n",
      "{'event': 'on_chat_model_stream', 'data': {'chunk': AIMessageChunk(content=' team', additional_kwargs={}, response_metadata={}, id='run--22333ddc-8a44-4a24-9365-cb8c1d3e0dcf')}, 'run_id': '22333ddc-8a44-4a24-9365-cb8c1d3e0dcf', 'name': 'ChatGroq', 'tags': ['seq:step:1'], 'metadata': {'thread_id': '6', 'langgraph_step': 1, 'langgraph_node': 'Superbot', 'langgraph_triggers': ('branch:to:Superbot',), 'langgraph_path': ('__pregel_pull', 'Superbot'), 'langgraph_checkpoint_ns': 'Superbot:c248a5fc-5fb4-4f14-236a-d09714be9a16', 'checkpoint_ns': 'Superbot:c248a5fc-5fb4-4f14-236a-d09714be9a16', 'ls_provider': 'groq', 'ls_model_name': 'llama3-8b-8192', 'ls_model_type': 'chat', 'ls_temperature': 0.7}, 'parent_ids': ['bfb4b2fe-c528-44cc-923d-8f6c6cc76b19', '2b561302-aadf-4e98-923f-7f3127538b6c']}\n",
      "{'event': 'on_chat_model_stream', 'data': {'chunk': AIMessageChunk(content=' do', additional_kwargs={}, response_metadata={}, id='run--22333ddc-8a44-4a24-9365-cb8c1d3e0dcf')}, 'run_id': '22333ddc-8a44-4a24-9365-cb8c1d3e0dcf', 'name': 'ChatGroq', 'tags': ['seq:step:1'], 'metadata': {'thread_id': '6', 'langgraph_step': 1, 'langgraph_node': 'Superbot', 'langgraph_triggers': ('branch:to:Superbot',), 'langgraph_path': ('__pregel_pull', 'Superbot'), 'langgraph_checkpoint_ns': 'Superbot:c248a5fc-5fb4-4f14-236a-d09714be9a16', 'checkpoint_ns': 'Superbot:c248a5fc-5fb4-4f14-236a-d09714be9a16', 'ls_provider': 'groq', 'ls_model_name': 'llama3-8b-8192', 'ls_model_type': 'chat', 'ls_temperature': 0.7}, 'parent_ids': ['bfb4b2fe-c528-44cc-923d-8f6c6cc76b19', '2b561302-aadf-4e98-923f-7f3127538b6c']}\n",
      "{'event': 'on_chat_model_stream', 'data': {'chunk': AIMessageChunk(content=' you', additional_kwargs={}, response_metadata={}, id='run--22333ddc-8a44-4a24-9365-cb8c1d3e0dcf')}, 'run_id': '22333ddc-8a44-4a24-9365-cb8c1d3e0dcf', 'name': 'ChatGroq', 'tags': ['seq:step:1'], 'metadata': {'thread_id': '6', 'langgraph_step': 1, 'langgraph_node': 'Superbot', 'langgraph_triggers': ('branch:to:Superbot',), 'langgraph_path': ('__pregel_pull', 'Superbot'), 'langgraph_checkpoint_ns': 'Superbot:c248a5fc-5fb4-4f14-236a-d09714be9a16', 'checkpoint_ns': 'Superbot:c248a5fc-5fb4-4f14-236a-d09714be9a16', 'ls_provider': 'groq', 'ls_model_name': 'llama3-8b-8192', 'ls_model_type': 'chat', 'ls_temperature': 0.7}, 'parent_ids': ['bfb4b2fe-c528-44cc-923d-8f6c6cc76b19', '2b561302-aadf-4e98-923f-7f3127538b6c']}\n",
      "{'event': 'on_chat_model_stream', 'data': {'chunk': AIMessageChunk(content=' support', additional_kwargs={}, response_metadata={}, id='run--22333ddc-8a44-4a24-9365-cb8c1d3e0dcf')}, 'run_id': '22333ddc-8a44-4a24-9365-cb8c1d3e0dcf', 'name': 'ChatGroq', 'tags': ['seq:step:1'], 'metadata': {'thread_id': '6', 'langgraph_step': 1, 'langgraph_node': 'Superbot', 'langgraph_triggers': ('branch:to:Superbot',), 'langgraph_path': ('__pregel_pull', 'Superbot'), 'langgraph_checkpoint_ns': 'Superbot:c248a5fc-5fb4-4f14-236a-d09714be9a16', 'checkpoint_ns': 'Superbot:c248a5fc-5fb4-4f14-236a-d09714be9a16', 'ls_provider': 'groq', 'ls_model_name': 'llama3-8b-8192', 'ls_model_type': 'chat', 'ls_temperature': 0.7}, 'parent_ids': ['bfb4b2fe-c528-44cc-923d-8f6c6cc76b19', '2b561302-aadf-4e98-923f-7f3127538b6c']}\n",
      "{'event': 'on_chat_model_stream', 'data': {'chunk': AIMessageChunk(content='?', additional_kwargs={}, response_metadata={}, id='run--22333ddc-8a44-4a24-9365-cb8c1d3e0dcf')}, 'run_id': '22333ddc-8a44-4a24-9365-cb8c1d3e0dcf', 'name': 'ChatGroq', 'tags': ['seq:step:1'], 'metadata': {'thread_id': '6', 'langgraph_step': 1, 'langgraph_node': 'Superbot', 'langgraph_triggers': ('branch:to:Superbot',), 'langgraph_path': ('__pregel_pull', 'Superbot'), 'langgraph_checkpoint_ns': 'Superbot:c248a5fc-5fb4-4f14-236a-d09714be9a16', 'checkpoint_ns': 'Superbot:c248a5fc-5fb4-4f14-236a-d09714be9a16', 'ls_provider': 'groq', 'ls_model_name': 'llama3-8b-8192', 'ls_model_type': 'chat', 'ls_temperature': 0.7}, 'parent_ids': ['bfb4b2fe-c528-44cc-923d-8f6c6cc76b19', '2b561302-aadf-4e98-923f-7f3127538b6c']}\n",
      "{'event': 'on_chat_model_stream', 'data': {'chunk': AIMessageChunk(content=' Are', additional_kwargs={}, response_metadata={}, id='run--22333ddc-8a44-4a24-9365-cb8c1d3e0dcf')}, 'run_id': '22333ddc-8a44-4a24-9365-cb8c1d3e0dcf', 'name': 'ChatGroq', 'tags': ['seq:step:1'], 'metadata': {'thread_id': '6', 'langgraph_step': 1, 'langgraph_node': 'Superbot', 'langgraph_triggers': ('branch:to:Superbot',), 'langgraph_path': ('__pregel_pull', 'Superbot'), 'langgraph_checkpoint_ns': 'Superbot:c248a5fc-5fb4-4f14-236a-d09714be9a16', 'checkpoint_ns': 'Superbot:c248a5fc-5fb4-4f14-236a-d09714be9a16', 'ls_provider': 'groq', 'ls_model_name': 'llama3-8b-8192', 'ls_model_type': 'chat', 'ls_temperature': 0.7}, 'parent_ids': ['bfb4b2fe-c528-44cc-923d-8f6c6cc76b19', '2b561302-aadf-4e98-923f-7f3127538b6c']}\n",
      "{'event': 'on_chat_model_stream', 'data': {'chunk': AIMessageChunk(content=' you', additional_kwargs={}, response_metadata={}, id='run--22333ddc-8a44-4a24-9365-cb8c1d3e0dcf')}, 'run_id': '22333ddc-8a44-4a24-9365-cb8c1d3e0dcf', 'name': 'ChatGroq', 'tags': ['seq:step:1'], 'metadata': {'thread_id': '6', 'langgraph_step': 1, 'langgraph_node': 'Superbot', 'langgraph_triggers': ('branch:to:Superbot',), 'langgraph_path': ('__pregel_pull', 'Superbot'), 'langgraph_checkpoint_ns': 'Superbot:c248a5fc-5fb4-4f14-236a-d09714be9a16', 'checkpoint_ns': 'Superbot:c248a5fc-5fb4-4f14-236a-d09714be9a16', 'ls_provider': 'groq', 'ls_model_name': 'llama3-8b-8192', 'ls_model_type': 'chat', 'ls_temperature': 0.7}, 'parent_ids': ['bfb4b2fe-c528-44cc-923d-8f6c6cc76b19', '2b561302-aadf-4e98-923f-7f3127538b6c']}\n",
      "{'event': 'on_chat_model_stream', 'data': {'chunk': AIMessageChunk(content=' a', additional_kwargs={}, response_metadata={}, id='run--22333ddc-8a44-4a24-9365-cb8c1d3e0dcf')}, 'run_id': '22333ddc-8a44-4a24-9365-cb8c1d3e0dcf', 'name': 'ChatGroq', 'tags': ['seq:step:1'], 'metadata': {'thread_id': '6', 'langgraph_step': 1, 'langgraph_node': 'Superbot', 'langgraph_triggers': ('branch:to:Superbot',), 'langgraph_path': ('__pregel_pull', 'Superbot'), 'langgraph_checkpoint_ns': 'Superbot:c248a5fc-5fb4-4f14-236a-d09714be9a16', 'checkpoint_ns': 'Superbot:c248a5fc-5fb4-4f14-236a-d09714be9a16', 'ls_provider': 'groq', 'ls_model_name': 'llama3-8b-8192', 'ls_model_type': 'chat', 'ls_temperature': 0.7}, 'parent_ids': ['bfb4b2fe-c528-44cc-923d-8f6c6cc76b19', '2b561302-aadf-4e98-923f-7f3127538b6c']}\n",
      "{'event': 'on_chat_model_stream', 'data': {'chunk': AIMessageChunk(content=' fan', additional_kwargs={}, response_metadata={}, id='run--22333ddc-8a44-4a24-9365-cb8c1d3e0dcf')}, 'run_id': '22333ddc-8a44-4a24-9365-cb8c1d3e0dcf', 'name': 'ChatGroq', 'tags': ['seq:step:1'], 'metadata': {'thread_id': '6', 'langgraph_step': 1, 'langgraph_node': 'Superbot', 'langgraph_triggers': ('branch:to:Superbot',), 'langgraph_path': ('__pregel_pull', 'Superbot'), 'langgraph_checkpoint_ns': 'Superbot:c248a5fc-5fb4-4f14-236a-d09714be9a16', 'checkpoint_ns': 'Superbot:c248a5fc-5fb4-4f14-236a-d09714be9a16', 'ls_provider': 'groq', 'ls_model_name': 'llama3-8b-8192', 'ls_model_type': 'chat', 'ls_temperature': 0.7}, 'parent_ids': ['bfb4b2fe-c528-44cc-923d-8f6c6cc76b19', '2b561302-aadf-4e98-923f-7f3127538b6c']}\n",
      "{'event': 'on_chat_model_stream', 'data': {'chunk': AIMessageChunk(content=' of', additional_kwargs={}, response_metadata={}, id='run--22333ddc-8a44-4a24-9365-cb8c1d3e0dcf')}, 'run_id': '22333ddc-8a44-4a24-9365-cb8c1d3e0dcf', 'name': 'ChatGroq', 'tags': ['seq:step:1'], 'metadata': {'thread_id': '6', 'langgraph_step': 1, 'langgraph_node': 'Superbot', 'langgraph_triggers': ('branch:to:Superbot',), 'langgraph_path': ('__pregel_pull', 'Superbot'), 'langgraph_checkpoint_ns': 'Superbot:c248a5fc-5fb4-4f14-236a-d09714be9a16', 'checkpoint_ns': 'Superbot:c248a5fc-5fb4-4f14-236a-d09714be9a16', 'ls_provider': 'groq', 'ls_model_name': 'llama3-8b-8192', 'ls_model_type': 'chat', 'ls_temperature': 0.7}, 'parent_ids': ['bfb4b2fe-c528-44cc-923d-8f6c6cc76b19', '2b561302-aadf-4e98-923f-7f3127538b6c']}\n",
      "{'event': 'on_chat_model_stream', 'data': {'chunk': AIMessageChunk(content=' a', additional_kwargs={}, response_metadata={}, id='run--22333ddc-8a44-4a24-9365-cb8c1d3e0dcf')}, 'run_id': '22333ddc-8a44-4a24-9365-cb8c1d3e0dcf', 'name': 'ChatGroq', 'tags': ['seq:step:1'], 'metadata': {'thread_id': '6', 'langgraph_step': 1, 'langgraph_node': 'Superbot', 'langgraph_triggers': ('branch:to:Superbot',), 'langgraph_path': ('__pregel_pull', 'Superbot'), 'langgraph_checkpoint_ns': 'Superbot:c248a5fc-5fb4-4f14-236a-d09714be9a16', 'checkpoint_ns': 'Superbot:c248a5fc-5fb4-4f14-236a-d09714be9a16', 'ls_provider': 'groq', 'ls_model_name': 'llama3-8b-8192', 'ls_model_type': 'chat', 'ls_temperature': 0.7}, 'parent_ids': ['bfb4b2fe-c528-44cc-923d-8f6c6cc76b19', '2b561302-aadf-4e98-923f-7f3127538b6c']}\n",
      "{'event': 'on_chat_model_stream', 'data': {'chunk': AIMessageChunk(content=' specific', additional_kwargs={}, response_metadata={}, id='run--22333ddc-8a44-4a24-9365-cb8c1d3e0dcf')}, 'run_id': '22333ddc-8a44-4a24-9365-cb8c1d3e0dcf', 'name': 'ChatGroq', 'tags': ['seq:step:1'], 'metadata': {'thread_id': '6', 'langgraph_step': 1, 'langgraph_node': 'Superbot', 'langgraph_triggers': ('branch:to:Superbot',), 'langgraph_path': ('__pregel_pull', 'Superbot'), 'langgraph_checkpoint_ns': 'Superbot:c248a5fc-5fb4-4f14-236a-d09714be9a16', 'checkpoint_ns': 'Superbot:c248a5fc-5fb4-4f14-236a-d09714be9a16', 'ls_provider': 'groq', 'ls_model_name': 'llama3-8b-8192', 'ls_model_type': 'chat', 'ls_temperature': 0.7}, 'parent_ids': ['bfb4b2fe-c528-44cc-923d-8f6c6cc76b19', '2b561302-aadf-4e98-923f-7f3127538b6c']}\n",
      "{'event': 'on_chat_model_stream', 'data': {'chunk': AIMessageChunk(content=' league', additional_kwargs={}, response_metadata={}, id='run--22333ddc-8a44-4a24-9365-cb8c1d3e0dcf')}, 'run_id': '22333ddc-8a44-4a24-9365-cb8c1d3e0dcf', 'name': 'ChatGroq', 'tags': ['seq:step:1'], 'metadata': {'thread_id': '6', 'langgraph_step': 1, 'langgraph_node': 'Superbot', 'langgraph_triggers': ('branch:to:Superbot',), 'langgraph_path': ('__pregel_pull', 'Superbot'), 'langgraph_checkpoint_ns': 'Superbot:c248a5fc-5fb4-4f14-236a-d09714be9a16', 'checkpoint_ns': 'Superbot:c248a5fc-5fb4-4f14-236a-d09714be9a16', 'ls_provider': 'groq', 'ls_model_name': 'llama3-8b-8192', 'ls_model_type': 'chat', 'ls_temperature': 0.7}, 'parent_ids': ['bfb4b2fe-c528-44cc-923d-8f6c6cc76b19', '2b561302-aadf-4e98-923f-7f3127538b6c']}\n",
      "{'event': 'on_chat_model_stream', 'data': {'chunk': AIMessageChunk(content=',', additional_kwargs={}, response_metadata={}, id='run--22333ddc-8a44-4a24-9365-cb8c1d3e0dcf')}, 'run_id': '22333ddc-8a44-4a24-9365-cb8c1d3e0dcf', 'name': 'ChatGroq', 'tags': ['seq:step:1'], 'metadata': {'thread_id': '6', 'langgraph_step': 1, 'langgraph_node': 'Superbot', 'langgraph_triggers': ('branch:to:Superbot',), 'langgraph_path': ('__pregel_pull', 'Superbot'), 'langgraph_checkpoint_ns': 'Superbot:c248a5fc-5fb4-4f14-236a-d09714be9a16', 'checkpoint_ns': 'Superbot:c248a5fc-5fb4-4f14-236a-d09714be9a16', 'ls_provider': 'groq', 'ls_model_name': 'llama3-8b-8192', 'ls_model_type': 'chat', 'ls_temperature': 0.7}, 'parent_ids': ['bfb4b2fe-c528-44cc-923d-8f6c6cc76b19', '2b561302-aadf-4e98-923f-7f3127538b6c']}\n",
      "{'event': 'on_chat_model_stream', 'data': {'chunk': AIMessageChunk(content=' like', additional_kwargs={}, response_metadata={}, id='run--22333ddc-8a44-4a24-9365-cb8c1d3e0dcf')}, 'run_id': '22333ddc-8a44-4a24-9365-cb8c1d3e0dcf', 'name': 'ChatGroq', 'tags': ['seq:step:1'], 'metadata': {'thread_id': '6', 'langgraph_step': 1, 'langgraph_node': 'Superbot', 'langgraph_triggers': ('branch:to:Superbot',), 'langgraph_path': ('__pregel_pull', 'Superbot'), 'langgraph_checkpoint_ns': 'Superbot:c248a5fc-5fb4-4f14-236a-d09714be9a16', 'checkpoint_ns': 'Superbot:c248a5fc-5fb4-4f14-236a-d09714be9a16', 'ls_provider': 'groq', 'ls_model_name': 'llama3-8b-8192', 'ls_model_type': 'chat', 'ls_temperature': 0.7}, 'parent_ids': ['bfb4b2fe-c528-44cc-923d-8f6c6cc76b19', '2b561302-aadf-4e98-923f-7f3127538b6c']}\n",
      "{'event': 'on_chat_model_stream', 'data': {'chunk': AIMessageChunk(content=' the', additional_kwargs={}, response_metadata={}, id='run--22333ddc-8a44-4a24-9365-cb8c1d3e0dcf')}, 'run_id': '22333ddc-8a44-4a24-9365-cb8c1d3e0dcf', 'name': 'ChatGroq', 'tags': ['seq:step:1'], 'metadata': {'thread_id': '6', 'langgraph_step': 1, 'langgraph_node': 'Superbot', 'langgraph_triggers': ('branch:to:Superbot',), 'langgraph_path': ('__pregel_pull', 'Superbot'), 'langgraph_checkpoint_ns': 'Superbot:c248a5fc-5fb4-4f14-236a-d09714be9a16', 'checkpoint_ns': 'Superbot:c248a5fc-5fb4-4f14-236a-d09714be9a16', 'ls_provider': 'groq', 'ls_model_name': 'llama3-8b-8192', 'ls_model_type': 'chat', 'ls_temperature': 0.7}, 'parent_ids': ['bfb4b2fe-c528-44cc-923d-8f6c6cc76b19', '2b561302-aadf-4e98-923f-7f3127538b6c']}\n",
      "{'event': 'on_chat_model_stream', 'data': {'chunk': AIMessageChunk(content=' Premier', additional_kwargs={}, response_metadata={}, id='run--22333ddc-8a44-4a24-9365-cb8c1d3e0dcf')}, 'run_id': '22333ddc-8a44-4a24-9365-cb8c1d3e0dcf', 'name': 'ChatGroq', 'tags': ['seq:step:1'], 'metadata': {'thread_id': '6', 'langgraph_step': 1, 'langgraph_node': 'Superbot', 'langgraph_triggers': ('branch:to:Superbot',), 'langgraph_path': ('__pregel_pull', 'Superbot'), 'langgraph_checkpoint_ns': 'Superbot:c248a5fc-5fb4-4f14-236a-d09714be9a16', 'checkpoint_ns': 'Superbot:c248a5fc-5fb4-4f14-236a-d09714be9a16', 'ls_provider': 'groq', 'ls_model_name': 'llama3-8b-8192', 'ls_model_type': 'chat', 'ls_temperature': 0.7}, 'parent_ids': ['bfb4b2fe-c528-44cc-923d-8f6c6cc76b19', '2b561302-aadf-4e98-923f-7f3127538b6c']}\n",
      "{'event': 'on_chat_model_stream', 'data': {'chunk': AIMessageChunk(content=' League', additional_kwargs={}, response_metadata={}, id='run--22333ddc-8a44-4a24-9365-cb8c1d3e0dcf')}, 'run_id': '22333ddc-8a44-4a24-9365-cb8c1d3e0dcf', 'name': 'ChatGroq', 'tags': ['seq:step:1'], 'metadata': {'thread_id': '6', 'langgraph_step': 1, 'langgraph_node': 'Superbot', 'langgraph_triggers': ('branch:to:Superbot',), 'langgraph_path': ('__pregel_pull', 'Superbot'), 'langgraph_checkpoint_ns': 'Superbot:c248a5fc-5fb4-4f14-236a-d09714be9a16', 'checkpoint_ns': 'Superbot:c248a5fc-5fb4-4f14-236a-d09714be9a16', 'ls_provider': 'groq', 'ls_model_name': 'llama3-8b-8192', 'ls_model_type': 'chat', 'ls_temperature': 0.7}, 'parent_ids': ['bfb4b2fe-c528-44cc-923d-8f6c6cc76b19', '2b561302-aadf-4e98-923f-7f3127538b6c']}\n",
      "{'event': 'on_chat_model_stream', 'data': {'chunk': AIMessageChunk(content=' or', additional_kwargs={}, response_metadata={}, id='run--22333ddc-8a44-4a24-9365-cb8c1d3e0dcf')}, 'run_id': '22333ddc-8a44-4a24-9365-cb8c1d3e0dcf', 'name': 'ChatGroq', 'tags': ['seq:step:1'], 'metadata': {'thread_id': '6', 'langgraph_step': 1, 'langgraph_node': 'Superbot', 'langgraph_triggers': ('branch:to:Superbot',), 'langgraph_path': ('__pregel_pull', 'Superbot'), 'langgraph_checkpoint_ns': 'Superbot:c248a5fc-5fb4-4f14-236a-d09714be9a16', 'checkpoint_ns': 'Superbot:c248a5fc-5fb4-4f14-236a-d09714be9a16', 'ls_provider': 'groq', 'ls_model_name': 'llama3-8b-8192', 'ls_model_type': 'chat', 'ls_temperature': 0.7}, 'parent_ids': ['bfb4b2fe-c528-44cc-923d-8f6c6cc76b19', '2b561302-aadf-4e98-923f-7f3127538b6c']}\n",
      "{'event': 'on_chat_model_stream', 'data': {'chunk': AIMessageChunk(content=' La', additional_kwargs={}, response_metadata={}, id='run--22333ddc-8a44-4a24-9365-cb8c1d3e0dcf')}, 'run_id': '22333ddc-8a44-4a24-9365-cb8c1d3e0dcf', 'name': 'ChatGroq', 'tags': ['seq:step:1'], 'metadata': {'thread_id': '6', 'langgraph_step': 1, 'langgraph_node': 'Superbot', 'langgraph_triggers': ('branch:to:Superbot',), 'langgraph_path': ('__pregel_pull', 'Superbot'), 'langgraph_checkpoint_ns': 'Superbot:c248a5fc-5fb4-4f14-236a-d09714be9a16', 'checkpoint_ns': 'Superbot:c248a5fc-5fb4-4f14-236a-d09714be9a16', 'ls_provider': 'groq', 'ls_model_name': 'llama3-8b-8192', 'ls_model_type': 'chat', 'ls_temperature': 0.7}, 'parent_ids': ['bfb4b2fe-c528-44cc-923d-8f6c6cc76b19', '2b561302-aadf-4e98-923f-7f3127538b6c']}\n",
      "{'event': 'on_chat_model_stream', 'data': {'chunk': AIMessageChunk(content=' Liga', additional_kwargs={}, response_metadata={}, id='run--22333ddc-8a44-4a24-9365-cb8c1d3e0dcf')}, 'run_id': '22333ddc-8a44-4a24-9365-cb8c1d3e0dcf', 'name': 'ChatGroq', 'tags': ['seq:step:1'], 'metadata': {'thread_id': '6', 'langgraph_step': 1, 'langgraph_node': 'Superbot', 'langgraph_triggers': ('branch:to:Superbot',), 'langgraph_path': ('__pregel_pull', 'Superbot'), 'langgraph_checkpoint_ns': 'Superbot:c248a5fc-5fb4-4f14-236a-d09714be9a16', 'checkpoint_ns': 'Superbot:c248a5fc-5fb4-4f14-236a-d09714be9a16', 'ls_provider': 'groq', 'ls_model_name': 'llama3-8b-8192', 'ls_model_type': 'chat', 'ls_temperature': 0.7}, 'parent_ids': ['bfb4b2fe-c528-44cc-923d-8f6c6cc76b19', '2b561302-aadf-4e98-923f-7f3127538b6c']}\n",
      "{'event': 'on_chat_model_stream', 'data': {'chunk': AIMessageChunk(content=',', additional_kwargs={}, response_metadata={}, id='run--22333ddc-8a44-4a24-9365-cb8c1d3e0dcf')}, 'run_id': '22333ddc-8a44-4a24-9365-cb8c1d3e0dcf', 'name': 'ChatGroq', 'tags': ['seq:step:1'], 'metadata': {'thread_id': '6', 'langgraph_step': 1, 'langgraph_node': 'Superbot', 'langgraph_triggers': ('branch:to:Superbot',), 'langgraph_path': ('__pregel_pull', 'Superbot'), 'langgraph_checkpoint_ns': 'Superbot:c248a5fc-5fb4-4f14-236a-d09714be9a16', 'checkpoint_ns': 'Superbot:c248a5fc-5fb4-4f14-236a-d09714be9a16', 'ls_provider': 'groq', 'ls_model_name': 'llama3-8b-8192', 'ls_model_type': 'chat', 'ls_temperature': 0.7}, 'parent_ids': ['bfb4b2fe-c528-44cc-923d-8f6c6cc76b19', '2b561302-aadf-4e98-923f-7f3127538b6c']}\n",
      "{'event': 'on_chat_model_stream', 'data': {'chunk': AIMessageChunk(content=' or', additional_kwargs={}, response_metadata={}, id='run--22333ddc-8a44-4a24-9365-cb8c1d3e0dcf')}, 'run_id': '22333ddc-8a44-4a24-9365-cb8c1d3e0dcf', 'name': 'ChatGroq', 'tags': ['seq:step:1'], 'metadata': {'thread_id': '6', 'langgraph_step': 1, 'langgraph_node': 'Superbot', 'langgraph_triggers': ('branch:to:Superbot',), 'langgraph_path': ('__pregel_pull', 'Superbot'), 'langgraph_checkpoint_ns': 'Superbot:c248a5fc-5fb4-4f14-236a-d09714be9a16', 'checkpoint_ns': 'Superbot:c248a5fc-5fb4-4f14-236a-d09714be9a16', 'ls_provider': 'groq', 'ls_model_name': 'llama3-8b-8192', 'ls_model_type': 'chat', 'ls_temperature': 0.7}, 'parent_ids': ['bfb4b2fe-c528-44cc-923d-8f6c6cc76b19', '2b561302-aadf-4e98-923f-7f3127538b6c']}\n",
      "{'event': 'on_chat_model_stream', 'data': {'chunk': AIMessageChunk(content=' do', additional_kwargs={}, response_metadata={}, id='run--22333ddc-8a44-4a24-9365-cb8c1d3e0dcf')}, 'run_id': '22333ddc-8a44-4a24-9365-cb8c1d3e0dcf', 'name': 'ChatGroq', 'tags': ['seq:step:1'], 'metadata': {'thread_id': '6', 'langgraph_step': 1, 'langgraph_node': 'Superbot', 'langgraph_triggers': ('branch:to:Superbot',), 'langgraph_path': ('__pregel_pull', 'Superbot'), 'langgraph_checkpoint_ns': 'Superbot:c248a5fc-5fb4-4f14-236a-d09714be9a16', 'checkpoint_ns': 'Superbot:c248a5fc-5fb4-4f14-236a-d09714be9a16', 'ls_provider': 'groq', 'ls_model_name': 'llama3-8b-8192', 'ls_model_type': 'chat', 'ls_temperature': 0.7}, 'parent_ids': ['bfb4b2fe-c528-44cc-923d-8f6c6cc76b19', '2b561302-aadf-4e98-923f-7f3127538b6c']}\n",
      "{'event': 'on_chat_model_stream', 'data': {'chunk': AIMessageChunk(content=' you', additional_kwargs={}, response_metadata={}, id='run--22333ddc-8a44-4a24-9365-cb8c1d3e0dcf')}, 'run_id': '22333ddc-8a44-4a24-9365-cb8c1d3e0dcf', 'name': 'ChatGroq', 'tags': ['seq:step:1'], 'metadata': {'thread_id': '6', 'langgraph_step': 1, 'langgraph_node': 'Superbot', 'langgraph_triggers': ('branch:to:Superbot',), 'langgraph_path': ('__pregel_pull', 'Superbot'), 'langgraph_checkpoint_ns': 'Superbot:c248a5fc-5fb4-4f14-236a-d09714be9a16', 'checkpoint_ns': 'Superbot:c248a5fc-5fb4-4f14-236a-d09714be9a16', 'ls_provider': 'groq', 'ls_model_name': 'llama3-8b-8192', 'ls_model_type': 'chat', 'ls_temperature': 0.7}, 'parent_ids': ['bfb4b2fe-c528-44cc-923d-8f6c6cc76b19', '2b561302-aadf-4e98-923f-7f3127538b6c']}\n",
      "{'event': 'on_chat_model_stream', 'data': {'chunk': AIMessageChunk(content=' enjoy', additional_kwargs={}, response_metadata={}, id='run--22333ddc-8a44-4a24-9365-cb8c1d3e0dcf')}, 'run_id': '22333ddc-8a44-4a24-9365-cb8c1d3e0dcf', 'name': 'ChatGroq', 'tags': ['seq:step:1'], 'metadata': {'thread_id': '6', 'langgraph_step': 1, 'langgraph_node': 'Superbot', 'langgraph_triggers': ('branch:to:Superbot',), 'langgraph_path': ('__pregel_pull', 'Superbot'), 'langgraph_checkpoint_ns': 'Superbot:c248a5fc-5fb4-4f14-236a-d09714be9a16', 'checkpoint_ns': 'Superbot:c248a5fc-5fb4-4f14-236a-d09714be9a16', 'ls_provider': 'groq', 'ls_model_name': 'llama3-8b-8192', 'ls_model_type': 'chat', 'ls_temperature': 0.7}, 'parent_ids': ['bfb4b2fe-c528-44cc-923d-8f6c6cc76b19', '2b561302-aadf-4e98-923f-7f3127538b6c']}\n",
      "{'event': 'on_chat_model_stream', 'data': {'chunk': AIMessageChunk(content=' watching', additional_kwargs={}, response_metadata={}, id='run--22333ddc-8a44-4a24-9365-cb8c1d3e0dcf')}, 'run_id': '22333ddc-8a44-4a24-9365-cb8c1d3e0dcf', 'name': 'ChatGroq', 'tags': ['seq:step:1'], 'metadata': {'thread_id': '6', 'langgraph_step': 1, 'langgraph_node': 'Superbot', 'langgraph_triggers': ('branch:to:Superbot',), 'langgraph_path': ('__pregel_pull', 'Superbot'), 'langgraph_checkpoint_ns': 'Superbot:c248a5fc-5fb4-4f14-236a-d09714be9a16', 'checkpoint_ns': 'Superbot:c248a5fc-5fb4-4f14-236a-d09714be9a16', 'ls_provider': 'groq', 'ls_model_name': 'llama3-8b-8192', 'ls_model_type': 'chat', 'ls_temperature': 0.7}, 'parent_ids': ['bfb4b2fe-c528-44cc-923d-8f6c6cc76b19', '2b561302-aadf-4e98-923f-7f3127538b6c']}\n",
      "{'event': 'on_chat_model_stream', 'data': {'chunk': AIMessageChunk(content=' international', additional_kwargs={}, response_metadata={}, id='run--22333ddc-8a44-4a24-9365-cb8c1d3e0dcf')}, 'run_id': '22333ddc-8a44-4a24-9365-cb8c1d3e0dcf', 'name': 'ChatGroq', 'tags': ['seq:step:1'], 'metadata': {'thread_id': '6', 'langgraph_step': 1, 'langgraph_node': 'Superbot', 'langgraph_triggers': ('branch:to:Superbot',), 'langgraph_path': ('__pregel_pull', 'Superbot'), 'langgraph_checkpoint_ns': 'Superbot:c248a5fc-5fb4-4f14-236a-d09714be9a16', 'checkpoint_ns': 'Superbot:c248a5fc-5fb4-4f14-236a-d09714be9a16', 'ls_provider': 'groq', 'ls_model_name': 'llama3-8b-8192', 'ls_model_type': 'chat', 'ls_temperature': 0.7}, 'parent_ids': ['bfb4b2fe-c528-44cc-923d-8f6c6cc76b19', '2b561302-aadf-4e98-923f-7f3127538b6c']}\n",
      "{'event': 'on_chat_model_stream', 'data': {'chunk': AIMessageChunk(content=' tournaments', additional_kwargs={}, response_metadata={}, id='run--22333ddc-8a44-4a24-9365-cb8c1d3e0dcf')}, 'run_id': '22333ddc-8a44-4a24-9365-cb8c1d3e0dcf', 'name': 'ChatGroq', 'tags': ['seq:step:1'], 'metadata': {'thread_id': '6', 'langgraph_step': 1, 'langgraph_node': 'Superbot', 'langgraph_triggers': ('branch:to:Superbot',), 'langgraph_path': ('__pregel_pull', 'Superbot'), 'langgraph_checkpoint_ns': 'Superbot:c248a5fc-5fb4-4f14-236a-d09714be9a16', 'checkpoint_ns': 'Superbot:c248a5fc-5fb4-4f14-236a-d09714be9a16', 'ls_provider': 'groq', 'ls_model_name': 'llama3-8b-8192', 'ls_model_type': 'chat', 'ls_temperature': 0.7}, 'parent_ids': ['bfb4b2fe-c528-44cc-923d-8f6c6cc76b19', '2b561302-aadf-4e98-923f-7f3127538b6c']}\n",
      "{'event': 'on_chat_model_stream', 'data': {'chunk': AIMessageChunk(content=' like', additional_kwargs={}, response_metadata={}, id='run--22333ddc-8a44-4a24-9365-cb8c1d3e0dcf')}, 'run_id': '22333ddc-8a44-4a24-9365-cb8c1d3e0dcf', 'name': 'ChatGroq', 'tags': ['seq:step:1'], 'metadata': {'thread_id': '6', 'langgraph_step': 1, 'langgraph_node': 'Superbot', 'langgraph_triggers': ('branch:to:Superbot',), 'langgraph_path': ('__pregel_pull', 'Superbot'), 'langgraph_checkpoint_ns': 'Superbot:c248a5fc-5fb4-4f14-236a-d09714be9a16', 'checkpoint_ns': 'Superbot:c248a5fc-5fb4-4f14-236a-d09714be9a16', 'ls_provider': 'groq', 'ls_model_name': 'llama3-8b-8192', 'ls_model_type': 'chat', 'ls_temperature': 0.7}, 'parent_ids': ['bfb4b2fe-c528-44cc-923d-8f6c6cc76b19', '2b561302-aadf-4e98-923f-7f3127538b6c']}\n",
      "{'event': 'on_chat_model_stream', 'data': {'chunk': AIMessageChunk(content=' the', additional_kwargs={}, response_metadata={}, id='run--22333ddc-8a44-4a24-9365-cb8c1d3e0dcf')}, 'run_id': '22333ddc-8a44-4a24-9365-cb8c1d3e0dcf', 'name': 'ChatGroq', 'tags': ['seq:step:1'], 'metadata': {'thread_id': '6', 'langgraph_step': 1, 'langgraph_node': 'Superbot', 'langgraph_triggers': ('branch:to:Superbot',), 'langgraph_path': ('__pregel_pull', 'Superbot'), 'langgraph_checkpoint_ns': 'Superbot:c248a5fc-5fb4-4f14-236a-d09714be9a16', 'checkpoint_ns': 'Superbot:c248a5fc-5fb4-4f14-236a-d09714be9a16', 'ls_provider': 'groq', 'ls_model_name': 'llama3-8b-8192', 'ls_model_type': 'chat', 'ls_temperature': 0.7}, 'parent_ids': ['bfb4b2fe-c528-44cc-923d-8f6c6cc76b19', '2b561302-aadf-4e98-923f-7f3127538b6c']}\n",
      "{'event': 'on_chat_model_stream', 'data': {'chunk': AIMessageChunk(content=' World', additional_kwargs={}, response_metadata={}, id='run--22333ddc-8a44-4a24-9365-cb8c1d3e0dcf')}, 'run_id': '22333ddc-8a44-4a24-9365-cb8c1d3e0dcf', 'name': 'ChatGroq', 'tags': ['seq:step:1'], 'metadata': {'thread_id': '6', 'langgraph_step': 1, 'langgraph_node': 'Superbot', 'langgraph_triggers': ('branch:to:Superbot',), 'langgraph_path': ('__pregel_pull', 'Superbot'), 'langgraph_checkpoint_ns': 'Superbot:c248a5fc-5fb4-4f14-236a-d09714be9a16', 'checkpoint_ns': 'Superbot:c248a5fc-5fb4-4f14-236a-d09714be9a16', 'ls_provider': 'groq', 'ls_model_name': 'llama3-8b-8192', 'ls_model_type': 'chat', 'ls_temperature': 0.7}, 'parent_ids': ['bfb4b2fe-c528-44cc-923d-8f6c6cc76b19', '2b561302-aadf-4e98-923f-7f3127538b6c']}\n",
      "{'event': 'on_chat_model_stream', 'data': {'chunk': AIMessageChunk(content=' Cup', additional_kwargs={}, response_metadata={}, id='run--22333ddc-8a44-4a24-9365-cb8c1d3e0dcf')}, 'run_id': '22333ddc-8a44-4a24-9365-cb8c1d3e0dcf', 'name': 'ChatGroq', 'tags': ['seq:step:1'], 'metadata': {'thread_id': '6', 'langgraph_step': 1, 'langgraph_node': 'Superbot', 'langgraph_triggers': ('branch:to:Superbot',), 'langgraph_path': ('__pregel_pull', 'Superbot'), 'langgraph_checkpoint_ns': 'Superbot:c248a5fc-5fb4-4f14-236a-d09714be9a16', 'checkpoint_ns': 'Superbot:c248a5fc-5fb4-4f14-236a-d09714be9a16', 'ls_provider': 'groq', 'ls_model_name': 'llama3-8b-8192', 'ls_model_type': 'chat', 'ls_temperature': 0.7}, 'parent_ids': ['bfb4b2fe-c528-44cc-923d-8f6c6cc76b19', '2b561302-aadf-4e98-923f-7f3127538b6c']}\n",
      "{'event': 'on_chat_model_stream', 'data': {'chunk': AIMessageChunk(content='?', additional_kwargs={}, response_metadata={}, id='run--22333ddc-8a44-4a24-9365-cb8c1d3e0dcf')}, 'run_id': '22333ddc-8a44-4a24-9365-cb8c1d3e0dcf', 'name': 'ChatGroq', 'tags': ['seq:step:1'], 'metadata': {'thread_id': '6', 'langgraph_step': 1, 'langgraph_node': 'Superbot', 'langgraph_triggers': ('branch:to:Superbot',), 'langgraph_path': ('__pregel_pull', 'Superbot'), 'langgraph_checkpoint_ns': 'Superbot:c248a5fc-5fb4-4f14-236a-d09714be9a16', 'checkpoint_ns': 'Superbot:c248a5fc-5fb4-4f14-236a-d09714be9a16', 'ls_provider': 'groq', 'ls_model_name': 'llama3-8b-8192', 'ls_model_type': 'chat', 'ls_temperature': 0.7}, 'parent_ids': ['bfb4b2fe-c528-44cc-923d-8f6c6cc76b19', '2b561302-aadf-4e98-923f-7f3127538b6c']}\n",
      "{'event': 'on_chat_model_stream', 'data': {'chunk': AIMessageChunk(content='', additional_kwargs={}, response_metadata={'finish_reason': 'stop', 'model_name': 'llama3-8b-8192', 'system_fingerprint': 'fp_24ec19897b', 'service_tier': 'on_demand'}, id='run--22333ddc-8a44-4a24-9365-cb8c1d3e0dcf', usage_metadata={'input_tokens': 20, 'output_tokens': 57, 'total_tokens': 77})}, 'run_id': '22333ddc-8a44-4a24-9365-cb8c1d3e0dcf', 'name': 'ChatGroq', 'tags': ['seq:step:1'], 'metadata': {'thread_id': '6', 'langgraph_step': 1, 'langgraph_node': 'Superbot', 'langgraph_triggers': ('branch:to:Superbot',), 'langgraph_path': ('__pregel_pull', 'Superbot'), 'langgraph_checkpoint_ns': 'Superbot:c248a5fc-5fb4-4f14-236a-d09714be9a16', 'checkpoint_ns': 'Superbot:c248a5fc-5fb4-4f14-236a-d09714be9a16', 'ls_provider': 'groq', 'ls_model_name': 'llama3-8b-8192', 'ls_model_type': 'chat', 'ls_temperature': 0.7}, 'parent_ids': ['bfb4b2fe-c528-44cc-923d-8f6c6cc76b19', '2b561302-aadf-4e98-923f-7f3127538b6c']}\n",
      "{'event': 'on_chat_model_end', 'data': {'output': AIMessage(content=\"Hi JY! It's great to meet you! Football is an amazing sport, isn't it? Which team do you support? Are you a fan of a specific league, like the Premier League or La Liga, or do you enjoy watching international tournaments like the World Cup?\", additional_kwargs={}, response_metadata={'finish_reason': 'stop', 'model_name': 'llama3-8b-8192', 'system_fingerprint': 'fp_24ec19897b', 'service_tier': 'on_demand'}, id='run--22333ddc-8a44-4a24-9365-cb8c1d3e0dcf', usage_metadata={'input_tokens': 20, 'output_tokens': 57, 'total_tokens': 77}), 'input': {'messages': [[HumanMessage(content='Hi my name is JY and I love football', additional_kwargs={}, response_metadata={}, id='ae4ef91a-c32f-4a3d-b521-3ca001c125e7')]]}}, 'run_id': '22333ddc-8a44-4a24-9365-cb8c1d3e0dcf', 'name': 'ChatGroq', 'tags': ['seq:step:1'], 'metadata': {'thread_id': '6', 'langgraph_step': 1, 'langgraph_node': 'Superbot', 'langgraph_triggers': ('branch:to:Superbot',), 'langgraph_path': ('__pregel_pull', 'Superbot'), 'langgraph_checkpoint_ns': 'Superbot:c248a5fc-5fb4-4f14-236a-d09714be9a16', 'checkpoint_ns': 'Superbot:c248a5fc-5fb4-4f14-236a-d09714be9a16', 'ls_provider': 'groq', 'ls_model_name': 'llama3-8b-8192', 'ls_model_type': 'chat', 'ls_temperature': 0.7}, 'parent_ids': ['bfb4b2fe-c528-44cc-923d-8f6c6cc76b19', '2b561302-aadf-4e98-923f-7f3127538b6c']}\n",
      "{'event': 'on_chain_stream', 'run_id': '2b561302-aadf-4e98-923f-7f3127538b6c', 'name': 'Superbot', 'tags': ['graph:step:1'], 'metadata': {'thread_id': '6', 'langgraph_step': 1, 'langgraph_node': 'Superbot', 'langgraph_triggers': ('branch:to:Superbot',), 'langgraph_path': ('__pregel_pull', 'Superbot'), 'langgraph_checkpoint_ns': 'Superbot:c248a5fc-5fb4-4f14-236a-d09714be9a16'}, 'data': {'chunk': {'messages': [AIMessage(content=\"Hi JY! It's great to meet you! Football is an amazing sport, isn't it? Which team do you support? Are you a fan of a specific league, like the Premier League or La Liga, or do you enjoy watching international tournaments like the World Cup?\", additional_kwargs={}, response_metadata={'finish_reason': 'stop', 'model_name': 'llama3-8b-8192', 'system_fingerprint': 'fp_24ec19897b', 'service_tier': 'on_demand'}, id='run--22333ddc-8a44-4a24-9365-cb8c1d3e0dcf', usage_metadata={'input_tokens': 20, 'output_tokens': 57, 'total_tokens': 77})]}}, 'parent_ids': ['bfb4b2fe-c528-44cc-923d-8f6c6cc76b19']}\n",
      "{'event': 'on_chain_end', 'data': {'output': {'messages': [AIMessage(content=\"Hi JY! It's great to meet you! Football is an amazing sport, isn't it? Which team do you support? Are you a fan of a specific league, like the Premier League or La Liga, or do you enjoy watching international tournaments like the World Cup?\", additional_kwargs={}, response_metadata={'finish_reason': 'stop', 'model_name': 'llama3-8b-8192', 'system_fingerprint': 'fp_24ec19897b', 'service_tier': 'on_demand'}, id='run--22333ddc-8a44-4a24-9365-cb8c1d3e0dcf', usage_metadata={'input_tokens': 20, 'output_tokens': 57, 'total_tokens': 77})]}, 'input': {'messages': [HumanMessage(content='Hi my name is JY and I love football', additional_kwargs={}, response_metadata={}, id='ae4ef91a-c32f-4a3d-b521-3ca001c125e7')]}}, 'run_id': '2b561302-aadf-4e98-923f-7f3127538b6c', 'name': 'Superbot', 'tags': ['graph:step:1'], 'metadata': {'thread_id': '6', 'langgraph_step': 1, 'langgraph_node': 'Superbot', 'langgraph_triggers': ('branch:to:Superbot',), 'langgraph_path': ('__pregel_pull', 'Superbot'), 'langgraph_checkpoint_ns': 'Superbot:c248a5fc-5fb4-4f14-236a-d09714be9a16'}, 'parent_ids': ['bfb4b2fe-c528-44cc-923d-8f6c6cc76b19']}\n",
      "{'event': 'on_chain_stream', 'run_id': 'bfb4b2fe-c528-44cc-923d-8f6c6cc76b19', 'name': 'LangGraph', 'tags': [], 'metadata': {'thread_id': '6'}, 'data': {'chunk': {'Superbot': {'messages': [AIMessage(content=\"Hi JY! It's great to meet you! Football is an amazing sport, isn't it? Which team do you support? Are you a fan of a specific league, like the Premier League or La Liga, or do you enjoy watching international tournaments like the World Cup?\", additional_kwargs={}, response_metadata={'finish_reason': 'stop', 'model_name': 'llama3-8b-8192', 'system_fingerprint': 'fp_24ec19897b', 'service_tier': 'on_demand'}, id='run--22333ddc-8a44-4a24-9365-cb8c1d3e0dcf', usage_metadata={'input_tokens': 20, 'output_tokens': 57, 'total_tokens': 77})]}}}, 'parent_ids': []}\n",
      "{'event': 'on_chain_end', 'data': {'output': {'messages': [HumanMessage(content='Hi my name is JY and I love football', additional_kwargs={}, response_metadata={}, id='ae4ef91a-c32f-4a3d-b521-3ca001c125e7'), AIMessage(content=\"Hi JY! It's great to meet you! Football is an amazing sport, isn't it? Which team do you support? Are you a fan of a specific league, like the Premier League or La Liga, or do you enjoy watching international tournaments like the World Cup?\", additional_kwargs={}, response_metadata={'finish_reason': 'stop', 'model_name': 'llama3-8b-8192', 'system_fingerprint': 'fp_24ec19897b', 'service_tier': 'on_demand'}, id='run--22333ddc-8a44-4a24-9365-cb8c1d3e0dcf', usage_metadata={'input_tokens': 20, 'output_tokens': 57, 'total_tokens': 77})]}}, 'run_id': 'bfb4b2fe-c528-44cc-923d-8f6c6cc76b19', 'name': 'LangGraph', 'tags': [], 'metadata': {'thread_id': '6'}, 'parent_ids': []}\n"
     ]
    }
   ],
   "source": [
    "## Invocation\n",
    "\n",
    "config = {\"configurable\":{\"thread_id\":\"6\"}}\n",
    "\n",
    "async for event in graph_builder.astream_events({\"messages\":[\"Hi my name is JY and I love football\"]}, config, version=\"v2\"):\n",
    "    print(event)"
   ]
  }
 ],
 "metadata": {
  "kernelspec": {
   "display_name": "Python 3",
   "language": "python",
   "name": "python3"
  },
  "language_info": {
   "codemirror_mode": {
    "name": "ipython",
    "version": 3
   },
   "file_extension": ".py",
   "mimetype": "text/x-python",
   "name": "python",
   "nbconvert_exporter": "python",
   "pygments_lexer": "ipython3",
   "version": "3.13.5"
  }
 },
 "nbformat": 4,
 "nbformat_minor": 5
}
