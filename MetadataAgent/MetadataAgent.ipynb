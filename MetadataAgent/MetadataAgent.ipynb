{
 "cells": [
  {
   "cell_type": "markdown",
   "id": "27a03af2",
   "metadata": {},
   "source": [
    "### Setup"
   ]
  },
  {
   "cell_type": "code",
   "execution_count": null,
   "id": "0fda8fdd",
   "metadata": {},
   "outputs": [],
   "source": [
    "import os\n",
    "\n",
    "from google import genai\n",
    "from pymongo import MongoClient\n",
    "from dotenv import load_dotenv"
   ]
  },
  {
   "cell_type": "code",
   "execution_count": 2,
   "id": "80fa0eea",
   "metadata": {},
   "outputs": [
    {
     "data": {
      "text/plain": [
       "True"
      ]
     },
     "execution_count": 2,
     "metadata": {},
     "output_type": "execute_result"
    }
   ],
   "source": [
    "# load API keys\n",
    "load_dotenv()"
   ]
  },
  {
   "cell_type": "code",
   "execution_count": null,
   "id": "454eeaf2",
   "metadata": {},
   "outputs": [],
   "source": [
    "# Example: Load MongoDB URI from environment variable\n",
    "mongo_uri = os.getenv(\"MONGODB_URI\")\n",
    "client = MongoClient(mongo_uri)\n",
    "\n",
    "# Access a database\n",
    "db = client[\"your_database_name\"]"
   ]
  },
  {
   "cell_type": "code",
   "execution_count": null,
   "id": "227717ea",
   "metadata": {},
   "outputs": [],
   "source": [
    "# This will create the database and collection if they do not exist\n",
    "db = client[\"your_database_name\"]  # Replace with your desired database name\n",
    "collection = db[\"your_collection_name\"]  # Replace with your desired collection name\n",
    "\n",
    "# Insert a sample document\n",
    "sample_doc = {\"name\": \"John Doe\", \"email\": \"john@example.com\"}\n",
    "result = collection.insert_one(sample_doc)\n",
    "\n",
    "print(\"Inserted document ID:\", result.inserted_id)"
   ]
  }
 ],
 "metadata": {
  "kernelspec": {
   "display_name": "Work_Playground",
   "language": "python",
   "name": "python3"
  },
  "language_info": {
   "codemirror_mode": {
    "name": "ipython",
    "version": 3
   },
   "file_extension": ".py",
   "mimetype": "text/x-python",
   "name": "python",
   "nbconvert_exporter": "python",
   "pygments_lexer": "ipython3",
   "version": "3.13.5"
  }
 },
 "nbformat": 4,
 "nbformat_minor": 5
}
